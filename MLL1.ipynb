{
  "nbformat": 4,
  "nbformat_minor": 0,
  "metadata": {
    "colab": {
      "provenance": [],
      "authorship_tag": "ABX9TyMge7DNgHfdiQ1qcBPBELog",
      "include_colab_link": true
    },
    "kernelspec": {
      "name": "python3",
      "display_name": "Python 3"
    },
    "language_info": {
      "name": "python"
    },
    "accelerator": "GPU",
    "gpuClass": "standard"
  },
  "cells": [
    {
      "cell_type": "markdown",
      "metadata": {
        "id": "view-in-github",
        "colab_type": "text"
      },
      "source": [
        "<a href=\"https://colab.research.google.com/github/Mohammedaslaan/DataScience-AIML-Things/blob/main/MLL1.ipynb\" target=\"_parent\"><img src=\"https://colab.research.google.com/assets/colab-badge.svg\" alt=\"Open In Colab\"/></a>"
      ]
    },
    {
      "cell_type": "code",
      "execution_count": 1,
      "metadata": {
        "id": "P0sEz1v44BXz"
      },
      "outputs": [],
      "source": [
        "#Creating & Visualizing Neural Network for the given data. (Use python)\n",
        "#Note: download dataset using Kaggal. Keras, ANN visualizer, graph viz libraries are required."
      ]
    },
    {
      "cell_type": "code",
      "source": [
        "import pandas as pd\n",
        "import seaborn as sns\n",
        "import numpy as np"
      ],
      "metadata": {
        "id": "YwkhFH7G9JLj"
      },
      "execution_count": 2,
      "outputs": []
    },
    {
      "cell_type": "code",
      "source": [
        "df = pd.read_csv('/content/pima-new.csv')"
      ],
      "metadata": {
        "id": "sP7NgKVZ928h"
      },
      "execution_count": 3,
      "outputs": []
    },
    {
      "cell_type": "code",
      "source": [
        "df"
      ],
      "metadata": {
        "colab": {
          "base_uri": "https://localhost:8080/",
          "height": 423
        },
        "id": "0MrY05XQ-SEd",
        "outputId": "c731f7a5-d9b5-4485-9ba3-0a59cfa2f453"
      },
      "execution_count": 4,
      "outputs": [
        {
          "output_type": "execute_result",
          "data": {
            "text/plain": [
              "      6  148  72  35    0  33.6  0.627  50  1\n",
              "0     1   85  66  29    0  26.6  0.351  31  0\n",
              "1     8  183  64   0    0  23.3  0.672  32  1\n",
              "2     1   89  66  23   94  28.1  0.167  21  0\n",
              "3     0  137  40  35  168  43.1  2.288  33  1\n",
              "4     5  116  74   0    0  25.6  0.201  30  0\n",
              "..   ..  ...  ..  ..  ...   ...    ...  .. ..\n",
              "762  10  101  76  48  180  32.9  0.171  63  0\n",
              "763   2  122  70  27    0  36.8  0.340  27  0\n",
              "764   5  121  72  23  112  26.2  0.245  30  0\n",
              "765   1  126  60   0    0  30.1  0.349  47  1\n",
              "766   1   93  70  31    0  30.4  0.315  23  0\n",
              "\n",
              "[767 rows x 9 columns]"
            ],
            "text/html": [
              "\n",
              "  <div id=\"df-9ce12bd7-e923-44f1-b3e6-ec912ffcf413\">\n",
              "    <div class=\"colab-df-container\">\n",
              "      <div>\n",
              "<style scoped>\n",
              "    .dataframe tbody tr th:only-of-type {\n",
              "        vertical-align: middle;\n",
              "    }\n",
              "\n",
              "    .dataframe tbody tr th {\n",
              "        vertical-align: top;\n",
              "    }\n",
              "\n",
              "    .dataframe thead th {\n",
              "        text-align: right;\n",
              "    }\n",
              "</style>\n",
              "<table border=\"1\" class=\"dataframe\">\n",
              "  <thead>\n",
              "    <tr style=\"text-align: right;\">\n",
              "      <th></th>\n",
              "      <th>6</th>\n",
              "      <th>148</th>\n",
              "      <th>72</th>\n",
              "      <th>35</th>\n",
              "      <th>0</th>\n",
              "      <th>33.6</th>\n",
              "      <th>0.627</th>\n",
              "      <th>50</th>\n",
              "      <th>1</th>\n",
              "    </tr>\n",
              "  </thead>\n",
              "  <tbody>\n",
              "    <tr>\n",
              "      <th>0</th>\n",
              "      <td>1</td>\n",
              "      <td>85</td>\n",
              "      <td>66</td>\n",
              "      <td>29</td>\n",
              "      <td>0</td>\n",
              "      <td>26.6</td>\n",
              "      <td>0.351</td>\n",
              "      <td>31</td>\n",
              "      <td>0</td>\n",
              "    </tr>\n",
              "    <tr>\n",
              "      <th>1</th>\n",
              "      <td>8</td>\n",
              "      <td>183</td>\n",
              "      <td>64</td>\n",
              "      <td>0</td>\n",
              "      <td>0</td>\n",
              "      <td>23.3</td>\n",
              "      <td>0.672</td>\n",
              "      <td>32</td>\n",
              "      <td>1</td>\n",
              "    </tr>\n",
              "    <tr>\n",
              "      <th>2</th>\n",
              "      <td>1</td>\n",
              "      <td>89</td>\n",
              "      <td>66</td>\n",
              "      <td>23</td>\n",
              "      <td>94</td>\n",
              "      <td>28.1</td>\n",
              "      <td>0.167</td>\n",
              "      <td>21</td>\n",
              "      <td>0</td>\n",
              "    </tr>\n",
              "    <tr>\n",
              "      <th>3</th>\n",
              "      <td>0</td>\n",
              "      <td>137</td>\n",
              "      <td>40</td>\n",
              "      <td>35</td>\n",
              "      <td>168</td>\n",
              "      <td>43.1</td>\n",
              "      <td>2.288</td>\n",
              "      <td>33</td>\n",
              "      <td>1</td>\n",
              "    </tr>\n",
              "    <tr>\n",
              "      <th>4</th>\n",
              "      <td>5</td>\n",
              "      <td>116</td>\n",
              "      <td>74</td>\n",
              "      <td>0</td>\n",
              "      <td>0</td>\n",
              "      <td>25.6</td>\n",
              "      <td>0.201</td>\n",
              "      <td>30</td>\n",
              "      <td>0</td>\n",
              "    </tr>\n",
              "    <tr>\n",
              "      <th>...</th>\n",
              "      <td>...</td>\n",
              "      <td>...</td>\n",
              "      <td>...</td>\n",
              "      <td>...</td>\n",
              "      <td>...</td>\n",
              "      <td>...</td>\n",
              "      <td>...</td>\n",
              "      <td>...</td>\n",
              "      <td>...</td>\n",
              "    </tr>\n",
              "    <tr>\n",
              "      <th>762</th>\n",
              "      <td>10</td>\n",
              "      <td>101</td>\n",
              "      <td>76</td>\n",
              "      <td>48</td>\n",
              "      <td>180</td>\n",
              "      <td>32.9</td>\n",
              "      <td>0.171</td>\n",
              "      <td>63</td>\n",
              "      <td>0</td>\n",
              "    </tr>\n",
              "    <tr>\n",
              "      <th>763</th>\n",
              "      <td>2</td>\n",
              "      <td>122</td>\n",
              "      <td>70</td>\n",
              "      <td>27</td>\n",
              "      <td>0</td>\n",
              "      <td>36.8</td>\n",
              "      <td>0.340</td>\n",
              "      <td>27</td>\n",
              "      <td>0</td>\n",
              "    </tr>\n",
              "    <tr>\n",
              "      <th>764</th>\n",
              "      <td>5</td>\n",
              "      <td>121</td>\n",
              "      <td>72</td>\n",
              "      <td>23</td>\n",
              "      <td>112</td>\n",
              "      <td>26.2</td>\n",
              "      <td>0.245</td>\n",
              "      <td>30</td>\n",
              "      <td>0</td>\n",
              "    </tr>\n",
              "    <tr>\n",
              "      <th>765</th>\n",
              "      <td>1</td>\n",
              "      <td>126</td>\n",
              "      <td>60</td>\n",
              "      <td>0</td>\n",
              "      <td>0</td>\n",
              "      <td>30.1</td>\n",
              "      <td>0.349</td>\n",
              "      <td>47</td>\n",
              "      <td>1</td>\n",
              "    </tr>\n",
              "    <tr>\n",
              "      <th>766</th>\n",
              "      <td>1</td>\n",
              "      <td>93</td>\n",
              "      <td>70</td>\n",
              "      <td>31</td>\n",
              "      <td>0</td>\n",
              "      <td>30.4</td>\n",
              "      <td>0.315</td>\n",
              "      <td>23</td>\n",
              "      <td>0</td>\n",
              "    </tr>\n",
              "  </tbody>\n",
              "</table>\n",
              "<p>767 rows × 9 columns</p>\n",
              "</div>\n",
              "      <button class=\"colab-df-convert\" onclick=\"convertToInteractive('df-9ce12bd7-e923-44f1-b3e6-ec912ffcf413')\"\n",
              "              title=\"Convert this dataframe to an interactive table.\"\n",
              "              style=\"display:none;\">\n",
              "        \n",
              "  <svg xmlns=\"http://www.w3.org/2000/svg\" height=\"24px\"viewBox=\"0 0 24 24\"\n",
              "       width=\"24px\">\n",
              "    <path d=\"M0 0h24v24H0V0z\" fill=\"none\"/>\n",
              "    <path d=\"M18.56 5.44l.94 2.06.94-2.06 2.06-.94-2.06-.94-.94-2.06-.94 2.06-2.06.94zm-11 1L8.5 8.5l.94-2.06 2.06-.94-2.06-.94L8.5 2.5l-.94 2.06-2.06.94zm10 10l.94 2.06.94-2.06 2.06-.94-2.06-.94-.94-2.06-.94 2.06-2.06.94z\"/><path d=\"M17.41 7.96l-1.37-1.37c-.4-.4-.92-.59-1.43-.59-.52 0-1.04.2-1.43.59L10.3 9.45l-7.72 7.72c-.78.78-.78 2.05 0 2.83L4 21.41c.39.39.9.59 1.41.59.51 0 1.02-.2 1.41-.59l7.78-7.78 2.81-2.81c.8-.78.8-2.07 0-2.86zM5.41 20L4 18.59l7.72-7.72 1.47 1.35L5.41 20z\"/>\n",
              "  </svg>\n",
              "      </button>\n",
              "      \n",
              "  <style>\n",
              "    .colab-df-container {\n",
              "      display:flex;\n",
              "      flex-wrap:wrap;\n",
              "      gap: 12px;\n",
              "    }\n",
              "\n",
              "    .colab-df-convert {\n",
              "      background-color: #E8F0FE;\n",
              "      border: none;\n",
              "      border-radius: 50%;\n",
              "      cursor: pointer;\n",
              "      display: none;\n",
              "      fill: #1967D2;\n",
              "      height: 32px;\n",
              "      padding: 0 0 0 0;\n",
              "      width: 32px;\n",
              "    }\n",
              "\n",
              "    .colab-df-convert:hover {\n",
              "      background-color: #E2EBFA;\n",
              "      box-shadow: 0px 1px 2px rgba(60, 64, 67, 0.3), 0px 1px 3px 1px rgba(60, 64, 67, 0.15);\n",
              "      fill: #174EA6;\n",
              "    }\n",
              "\n",
              "    [theme=dark] .colab-df-convert {\n",
              "      background-color: #3B4455;\n",
              "      fill: #D2E3FC;\n",
              "    }\n",
              "\n",
              "    [theme=dark] .colab-df-convert:hover {\n",
              "      background-color: #434B5C;\n",
              "      box-shadow: 0px 1px 3px 1px rgba(0, 0, 0, 0.15);\n",
              "      filter: drop-shadow(0px 1px 2px rgba(0, 0, 0, 0.3));\n",
              "      fill: #FFFFFF;\n",
              "    }\n",
              "  </style>\n",
              "\n",
              "      <script>\n",
              "        const buttonEl =\n",
              "          document.querySelector('#df-9ce12bd7-e923-44f1-b3e6-ec912ffcf413 button.colab-df-convert');\n",
              "        buttonEl.style.display =\n",
              "          google.colab.kernel.accessAllowed ? 'block' : 'none';\n",
              "\n",
              "        async function convertToInteractive(key) {\n",
              "          const element = document.querySelector('#df-9ce12bd7-e923-44f1-b3e6-ec912ffcf413');\n",
              "          const dataTable =\n",
              "            await google.colab.kernel.invokeFunction('convertToInteractive',\n",
              "                                                     [key], {});\n",
              "          if (!dataTable) return;\n",
              "\n",
              "          const docLinkHtml = 'Like what you see? Visit the ' +\n",
              "            '<a target=\"_blank\" href=https://colab.research.google.com/notebooks/data_table.ipynb>data table notebook</a>'\n",
              "            + ' to learn more about interactive tables.';\n",
              "          element.innerHTML = '';\n",
              "          dataTable['output_type'] = 'display_data';\n",
              "          await google.colab.output.renderOutput(dataTable, element);\n",
              "          const docLink = document.createElement('div');\n",
              "          docLink.innerHTML = docLinkHtml;\n",
              "          element.appendChild(docLink);\n",
              "        }\n",
              "      </script>\n",
              "    </div>\n",
              "  </div>\n",
              "  "
            ]
          },
          "metadata": {},
          "execution_count": 4
        }
      ]
    },
    {
      "cell_type": "code",
      "source": [
        "### neural network works by learning the ideal wieght"
      ],
      "metadata": {
        "id": "6qYF9pS--SdE"
      },
      "execution_count": 5,
      "outputs": []
    },
    {
      "cell_type": "code",
      "source": [
        "df = np.loadtxt('/content/pima-new.csv',delimiter =',')"
      ],
      "metadata": {
        "id": "XHU17dTPAepl"
      },
      "execution_count": 6,
      "outputs": []
    },
    {
      "cell_type": "code",
      "source": [
        "df"
      ],
      "metadata": {
        "colab": {
          "base_uri": "https://localhost:8080/"
        },
        "id": "tubfRIzsCH43",
        "outputId": "47cb8fc3-efc4-45dc-e2bf-cc6ad2822546"
      },
      "execution_count": 7,
      "outputs": [
        {
          "output_type": "execute_result",
          "data": {
            "text/plain": [
              "array([[  6.   , 148.   ,  72.   , ...,   0.627,  50.   ,   1.   ],\n",
              "       [  1.   ,  85.   ,  66.   , ...,   0.351,  31.   ,   0.   ],\n",
              "       [  8.   , 183.   ,  64.   , ...,   0.672,  32.   ,   1.   ],\n",
              "       ...,\n",
              "       [  5.   , 121.   ,  72.   , ...,   0.245,  30.   ,   0.   ],\n",
              "       [  1.   , 126.   ,  60.   , ...,   0.349,  47.   ,   1.   ],\n",
              "       [  1.   ,  93.   ,  70.   , ...,   0.315,  23.   ,   0.   ]])"
            ]
          },
          "metadata": {},
          "execution_count": 7
        }
      ]
    },
    {
      "cell_type": "code",
      "source": [
        "df.shape"
      ],
      "metadata": {
        "colab": {
          "base_uri": "https://localhost:8080/"
        },
        "id": "4S-LJ4KACJMo",
        "outputId": "a890a8ed-906d-47f7-b8cb-d55f13468413"
      },
      "execution_count": 8,
      "outputs": [
        {
          "output_type": "execute_result",
          "data": {
            "text/plain": [
              "(768, 9)"
            ]
          },
          "metadata": {},
          "execution_count": 8
        }
      ]
    },
    {
      "cell_type": "code",
      "source": [
        "x = df[:,:8]"
      ],
      "metadata": {
        "id": "gec9FbcDCYno"
      },
      "execution_count": 9,
      "outputs": []
    },
    {
      "cell_type": "code",
      "source": [
        "x"
      ],
      "metadata": {
        "colab": {
          "base_uri": "https://localhost:8080/"
        },
        "id": "8FipS9L0Cp7Q",
        "outputId": "a1068251-9b27-412b-d2e0-6e1f1d5ab750"
      },
      "execution_count": 10,
      "outputs": [
        {
          "output_type": "execute_result",
          "data": {
            "text/plain": [
              "array([[  6.   , 148.   ,  72.   , ...,  33.6  ,   0.627,  50.   ],\n",
              "       [  1.   ,  85.   ,  66.   , ...,  26.6  ,   0.351,  31.   ],\n",
              "       [  8.   , 183.   ,  64.   , ...,  23.3  ,   0.672,  32.   ],\n",
              "       ...,\n",
              "       [  5.   , 121.   ,  72.   , ...,  26.2  ,   0.245,  30.   ],\n",
              "       [  1.   , 126.   ,  60.   , ...,  30.1  ,   0.349,  47.   ],\n",
              "       [  1.   ,  93.   ,  70.   , ...,  30.4  ,   0.315,  23.   ]])"
            ]
          },
          "metadata": {},
          "execution_count": 10
        }
      ]
    },
    {
      "cell_type": "code",
      "source": [
        "y = df[:,8]"
      ],
      "metadata": {
        "id": "BU4dRC4lCqet"
      },
      "execution_count": 11,
      "outputs": []
    },
    {
      "cell_type": "code",
      "source": [
        "y"
      ],
      "metadata": {
        "colab": {
          "base_uri": "https://localhost:8080/"
        },
        "id": "Ptfzd2TAC24s",
        "outputId": "f259e7bd-18c5-4929-a723-f53cbaa9ae14"
      },
      "execution_count": 12,
      "outputs": [
        {
          "output_type": "execute_result",
          "data": {
            "text/plain": [
              "array([1., 0., 1., 0., 1., 0., 1., 0., 1., 1., 0., 1., 0., 1., 1., 1., 1.,\n",
              "       1., 0., 1., 0., 0., 1., 1., 1., 1., 1., 0., 0., 0., 0., 1., 0., 0.,\n",
              "       0., 0., 0., 1., 1., 1., 0., 0., 0., 1., 0., 1., 0., 0., 1., 0., 0.,\n",
              "       0., 0., 1., 0., 0., 1., 0., 0., 0., 0., 1., 0., 0., 1., 0., 1., 0.,\n",
              "       0., 0., 1., 0., 1., 0., 0., 0., 0., 0., 1., 0., 0., 0., 0., 0., 1.,\n",
              "       0., 0., 0., 1., 0., 0., 0., 0., 1., 0., 0., 0., 0., 0., 1., 1., 0.,\n",
              "       0., 0., 0., 0., 0., 0., 0., 1., 1., 1., 0., 0., 1., 1., 1., 0., 0.,\n",
              "       0., 1., 0., 0., 0., 1., 1., 0., 0., 1., 1., 1., 1., 1., 0., 0., 0.,\n",
              "       0., 0., 0., 0., 0., 0., 0., 1., 0., 0., 0., 0., 0., 0., 0., 0., 1.,\n",
              "       0., 1., 1., 0., 0., 0., 1., 0., 0., 0., 0., 1., 1., 0., 0., 0., 0.,\n",
              "       1., 1., 0., 0., 0., 1., 0., 1., 0., 1., 0., 0., 0., 0., 0., 1., 1.,\n",
              "       1., 1., 1., 0., 0., 1., 1., 0., 1., 0., 1., 1., 1., 0., 0., 0., 0.,\n",
              "       0., 0., 1., 1., 0., 1., 0., 0., 0., 1., 1., 1., 1., 0., 1., 1., 1.,\n",
              "       1., 0., 0., 0., 0., 0., 1., 0., 0., 1., 1., 0., 0., 0., 1., 1., 1.,\n",
              "       1., 0., 0., 0., 1., 1., 0., 1., 0., 0., 0., 0., 0., 0., 0., 0., 1.,\n",
              "       1., 0., 0., 0., 1., 0., 1., 0., 0., 1., 0., 1., 0., 0., 1., 1., 0.,\n",
              "       0., 0., 0., 0., 1., 0., 0., 0., 1., 0., 0., 1., 1., 0., 0., 1., 0.,\n",
              "       0., 0., 1., 1., 1., 0., 0., 1., 0., 1., 0., 1., 1., 0., 1., 0., 0.,\n",
              "       1., 0., 1., 1., 0., 0., 1., 0., 1., 0., 0., 1., 0., 1., 0., 1., 1.,\n",
              "       1., 0., 0., 1., 0., 1., 0., 0., 0., 1., 0., 0., 0., 0., 1., 1., 1.,\n",
              "       0., 0., 0., 0., 0., 0., 0., 0., 0., 1., 0., 0., 0., 0., 0., 1., 1.,\n",
              "       1., 0., 1., 1., 0., 0., 1., 0., 0., 1., 0., 0., 1., 1., 0., 0., 0.,\n",
              "       0., 1., 0., 0., 1., 0., 0., 0., 0., 0., 0., 0., 1., 1., 1., 0., 0.,\n",
              "       1., 0., 0., 1., 0., 0., 1., 0., 1., 1., 0., 1., 0., 1., 0., 1., 0.,\n",
              "       1., 1., 0., 0., 0., 0., 1., 1., 0., 1., 0., 1., 0., 0., 0., 0., 1.,\n",
              "       1., 0., 1., 0., 1., 0., 0., 0., 0., 0., 1., 0., 0., 0., 0., 1., 0.,\n",
              "       0., 1., 1., 1., 0., 0., 1., 0., 0., 1., 0., 0., 0., 1., 0., 0., 1.,\n",
              "       0., 0., 0., 0., 0., 0., 0., 0., 0., 1., 0., 0., 0., 0., 0., 0., 0.,\n",
              "       1., 0., 0., 0., 1., 0., 0., 0., 1., 1., 0., 0., 0., 0., 0., 0., 0.,\n",
              "       1., 0., 0., 0., 0., 1., 0., 0., 0., 1., 0., 0., 0., 1., 0., 0., 0.,\n",
              "       1., 0., 0., 0., 0., 1., 1., 0., 0., 0., 0., 0., 0., 1., 0., 0., 0.,\n",
              "       0., 0., 0., 0., 0., 0., 0., 0., 1., 0., 0., 0., 1., 1., 1., 1., 0.,\n",
              "       0., 1., 1., 0., 0., 0., 0., 0., 0., 0., 0., 0., 0., 0., 0., 0., 1.,\n",
              "       1., 0., 0., 0., 0., 0., 0., 0., 1., 0., 0., 0., 0., 0., 0., 0., 1.,\n",
              "       0., 1., 1., 0., 0., 0., 1., 0., 1., 0., 1., 0., 1., 0., 1., 0., 0.,\n",
              "       1., 0., 0., 1., 0., 0., 0., 0., 1., 1., 0., 1., 0., 0., 0., 0., 1.,\n",
              "       1., 0., 1., 0., 0., 0., 1., 1., 0., 0., 0., 0., 0., 0., 0., 0., 0.,\n",
              "       0., 1., 0., 0., 0., 0., 1., 0., 0., 1., 0., 0., 0., 1., 0., 0., 0.,\n",
              "       1., 1., 1., 0., 0., 0., 0., 0., 0., 1., 0., 0., 0., 1., 0., 1., 1.,\n",
              "       1., 1., 0., 1., 1., 0., 0., 0., 0., 0., 0., 0., 1., 1., 0., 1., 0.,\n",
              "       0., 1., 0., 1., 0., 0., 0., 0., 0., 1., 0., 1., 0., 1., 0., 1., 1.,\n",
              "       0., 0., 0., 0., 1., 1., 0., 0., 0., 1., 0., 1., 1., 0., 0., 1., 0.,\n",
              "       0., 1., 1., 0., 0., 1., 0., 0., 1., 0., 0., 0., 0., 0., 0., 0., 1.,\n",
              "       1., 1., 0., 0., 0., 0., 0., 0., 1., 1., 0., 0., 1., 0., 0., 1., 0.,\n",
              "       1., 1., 1., 0., 0., 1., 1., 1., 0., 1., 0., 1., 0., 1., 0., 0., 0.,\n",
              "       0., 1., 0.])"
            ]
          },
          "metadata": {},
          "execution_count": 12
        }
      ]
    },
    {
      "cell_type": "code",
      "source": [
        "from collections import Counter"
      ],
      "metadata": {
        "id": "JTxxy0TMC3RB"
      },
      "execution_count": 13,
      "outputs": []
    },
    {
      "cell_type": "code",
      "source": [
        "Counter(y)"
      ],
      "metadata": {
        "colab": {
          "base_uri": "https://localhost:8080/"
        },
        "id": "6R84MdknDQbd",
        "outputId": "80de4991-b8e3-4abb-95f3-15d0f0c4f970"
      },
      "execution_count": 14,
      "outputs": [
        {
          "output_type": "execute_result",
          "data": {
            "text/plain": [
              "Counter({1.0: 268, 0.0: 500})"
            ]
          },
          "metadata": {},
          "execution_count": 14
        }
      ]
    },
    {
      "cell_type": "code",
      "source": [
        "from sklearn.model_selection import train_test_split"
      ],
      "metadata": {
        "id": "cMnsxBXkDSjm"
      },
      "execution_count": 15,
      "outputs": []
    },
    {
      "cell_type": "code",
      "source": [
        "x_train, x_test, y_train, y_test = train_test_split(x,y,random_state = 0)"
      ],
      "metadata": {
        "id": "hlhqBwyND6AC"
      },
      "execution_count": 16,
      "outputs": []
    },
    {
      "cell_type": "code",
      "source": [
        "x_train.shape"
      ],
      "metadata": {
        "colab": {
          "base_uri": "https://localhost:8080/"
        },
        "id": "KQOCiahiEEQs",
        "outputId": "bf20dc87-148e-4d19-fbff-83b234f36315"
      },
      "execution_count": 17,
      "outputs": [
        {
          "output_type": "execute_result",
          "data": {
            "text/plain": [
              "(576, 8)"
            ]
          },
          "metadata": {},
          "execution_count": 17
        }
      ]
    },
    {
      "cell_type": "code",
      "source": [
        "x_test.shape"
      ],
      "metadata": {
        "colab": {
          "base_uri": "https://localhost:8080/"
        },
        "id": "DoRYyiJkEKKa",
        "outputId": "358d301f-0b5b-4560-a11b-87a70c0990b1"
      },
      "execution_count": 18,
      "outputs": [
        {
          "output_type": "execute_result",
          "data": {
            "text/plain": [
              "(192, 8)"
            ]
          },
          "metadata": {},
          "execution_count": 18
        }
      ]
    },
    {
      "cell_type": "code",
      "source": [
        "### through 5 step we will be build neural network\n",
        "### Using Keras"
      ],
      "metadata": {
        "id": "tWzNqMKaELkz"
      },
      "execution_count": 19,
      "outputs": []
    },
    {
      "cell_type": "code",
      "source": [
        "### neural network is object of sequencial model"
      ],
      "metadata": {
        "id": "SukLkEESEqSE"
      },
      "execution_count": 20,
      "outputs": []
    },
    {
      "cell_type": "code",
      "source": [
        "from keras.models import Sequential"
      ],
      "metadata": {
        "id": "JZqZCBLLFBlq"
      },
      "execution_count": 21,
      "outputs": []
    },
    {
      "cell_type": "code",
      "source": [
        "from keras.layers import Dense"
      ],
      "metadata": {
        "id": "XkmS0WdVFGFV"
      },
      "execution_count": 22,
      "outputs": []
    },
    {
      "cell_type": "code",
      "source": [
        "### Now build the Model"
      ],
      "metadata": {
        "id": "6duKJIVuFOjy"
      },
      "execution_count": 23,
      "outputs": []
    },
    {
      "cell_type": "code",
      "source": [
        "model = Sequential()  ### creating object of neural network"
      ],
      "metadata": {
        "id": "_3FZt9u0FTyr"
      },
      "execution_count": 24,
      "outputs": []
    },
    {
      "cell_type": "code",
      "source": [
        "## then we have to add one by one layers to it\n",
        "## lets define the input layer"
      ],
      "metadata": {
        "id": "lufq9jFVFi3F"
      },
      "execution_count": 25,
      "outputs": []
    },
    {
      "cell_type": "code",
      "source": [
        "layer1 = Dense(8,input_shape = (8,), activation='relu')  ### atleast 8 neurons mmust bt there that is no. of features"
      ],
      "metadata": {
        "id": "HS9N9eJGFo89"
      },
      "execution_count": 26,
      "outputs": []
    },
    {
      "cell_type": "code",
      "source": [
        "### now add this layer to neural network"
      ],
      "metadata": {
        "id": "ZMtdf4dmF4eF"
      },
      "execution_count": 27,
      "outputs": []
    },
    {
      "cell_type": "code",
      "source": [
        "model.add(layer1)"
      ],
      "metadata": {
        "id": "7fvx0b_ZGGSK"
      },
      "execution_count": 28,
      "outputs": []
    },
    {
      "cell_type": "code",
      "source": [
        "### Now second layer that is also called hidden layer.\n",
        "### there can be any number of hidden layers\n",
        "layer2 = Dense(16,activation='relu')"
      ],
      "metadata": {
        "id": "nQvnWJlDGIQh"
      },
      "execution_count": 29,
      "outputs": []
    },
    {
      "cell_type": "code",
      "source": [
        "model.add(layer2)"
      ],
      "metadata": {
        "id": "NYZINUmzGno2"
      },
      "execution_count": 30,
      "outputs": []
    },
    {
      "cell_type": "code",
      "source": [
        "### finally addding Ouput layer\n",
        "##in output layer we will have the one neuron"
      ],
      "metadata": {
        "id": "qMZXemzOGpvQ"
      },
      "execution_count": 31,
      "outputs": []
    },
    {
      "cell_type": "code",
      "source": [
        "layer3 = Dense(1,activation='sigmoid')"
      ],
      "metadata": {
        "id": "-oeJ2maeG4tb"
      },
      "execution_count": 32,
      "outputs": []
    },
    {
      "cell_type": "code",
      "source": [
        "model.add(layer3)"
      ],
      "metadata": {
        "id": "ryxjQPING9He"
      },
      "execution_count": 33,
      "outputs": []
    },
    {
      "cell_type": "code",
      "source": [
        "model.summary()"
      ],
      "metadata": {
        "colab": {
          "base_uri": "https://localhost:8080/"
        },
        "id": "2DOdPgVlG_CS",
        "outputId": "9ad18b48-3394-4d43-d590-e27025680c8c"
      },
      "execution_count": 34,
      "outputs": [
        {
          "output_type": "stream",
          "name": "stdout",
          "text": [
            "Model: \"sequential\"\n",
            "_________________________________________________________________\n",
            " Layer (type)                Output Shape              Param #   \n",
            "=================================================================\n",
            " dense (Dense)               (None, 8)                 72        \n",
            "                                                                 \n",
            " dense_1 (Dense)             (None, 16)                144       \n",
            "                                                                 \n",
            " dense_2 (Dense)             (None, 1)                 17        \n",
            "                                                                 \n",
            "=================================================================\n",
            "Total params: 233\n",
            "Trainable params: 233\n",
            "Non-trainable params: 0\n",
            "_________________________________________________________________\n"
          ]
        }
      ]
    },
    {
      "cell_type": "code",
      "source": [
        "from keras.utils import plot_model"
      ],
      "metadata": {
        "id": "hYNkvuerHWOy"
      },
      "execution_count": 35,
      "outputs": []
    },
    {
      "cell_type": "code",
      "source": [
        "plot_model(model,show_dtype=True, show_layer_activations=True, show_shapes = True, show_layer_names = True)"
      ],
      "metadata": {
        "colab": {
          "base_uri": "https://localhost:8080/",
          "height": 545
        },
        "id": "7ImvOH6CHu6W",
        "outputId": "7ed9de80-3354-4323-aa32-ddc62fb239f8"
      },
      "execution_count": 36,
      "outputs": [
        {
          "output_type": "execute_result",
          "data": {
            "image/png": "[encoded data removed]",
            "text/plain": [
              "<IPython.core.display.Image object>"
            ]
          },
          "metadata": {},
          "execution_count": 36
        }
      ]
    },
    {
      "cell_type": "code",
      "source": [
        "### lets compile the model"
      ],
      "metadata": {
        "id": "L_uBYaAgHxL0"
      },
      "execution_count": 37,
      "outputs": []
    },
    {
      "cell_type": "code",
      "source": [
        "model.compile(loss='binary_crossentropy',optimizer ='adam',metrics=['accuracy'])"
      ],
      "metadata": {
        "id": "donBzZvIIjEy"
      },
      "execution_count": 38,
      "outputs": []
    },
    {
      "cell_type": "code",
      "source": [
        "### before training of model change the note book processor to gpu to speed up 10X"
      ],
      "metadata": {
        "id": "ilzxf7FvI0jK"
      },
      "execution_count": 39,
      "outputs": []
    },
    {
      "cell_type": "code",
      "source": [
        "model.fit(x_train,y_train,epochs=100,batch_size=10)"
      ],
      "metadata": {
        "colab": {
          "base_uri": "https://localhost:8080/"
        },
        "id": "zYsZIwIdJ4Vs",
        "outputId": "610082d4-ee97-4344-c1a2-1c33f2725990"
      },
      "execution_count": 41,
      "outputs": [
        {
          "output_type": "stream",
          "name": "stdout",
          "text": [
            "Epoch 1/100\n",
            "58/58 [==============================] - 6s 3ms/step - loss: 3.9822 - accuracy: 0.4306\n",
            "Epoch 2/100\n",
            "58/58 [==============================] - 0s 3ms/step - loss: 1.4948 - accuracy: 0.5139\n",
            "Epoch 3/100\n",
            "58/58 [==============================] - 0s 3ms/step - loss: 0.9817 - accuracy: 0.5590\n",
            "Epoch 4/100\n",
            "58/58 [==============================] - 0s 3ms/step - loss: 0.8520 - accuracy: 0.6094\n",
            "Epoch 5/100\n",
            "58/58 [==============================] - 0s 3ms/step - loss: 0.7964 - accuracy: 0.6250\n",
            "Epoch 6/100\n",
            "58/58 [==============================] - 0s 3ms/step - loss: 0.7754 - accuracy: 0.6163\n",
            "Epoch 7/100\n",
            "58/58 [==============================] - 0s 3ms/step - loss: 0.7364 - accuracy: 0.6424\n",
            "Epoch 8/100\n",
            "58/58 [==============================] - 0s 3ms/step - loss: 0.7220 - accuracy: 0.6424\n",
            "Epoch 9/100\n",
            "58/58 [==============================] - 0s 3ms/step - loss: 0.7236 - accuracy: 0.6649\n",
            "Epoch 10/100\n",
            "58/58 [==============================] - 0s 3ms/step - loss: 0.7266 - accuracy: 0.6493\n",
            "Epoch 11/100\n",
            "58/58 [==============================] - 0s 3ms/step - loss: 0.7011 - accuracy: 0.6406\n",
            "Epoch 12/100\n",
            "58/58 [==============================] - 0s 3ms/step - loss: 0.6844 - accuracy: 0.6615\n",
            "Epoch 13/100\n",
            "58/58 [==============================] - 0s 3ms/step - loss: 0.6797 - accuracy: 0.6597\n",
            "Epoch 14/100\n",
            "58/58 [==============================] - 0s 3ms/step - loss: 0.6639 - accuracy: 0.6580\n",
            "Epoch 15/100\n",
            "58/58 [==============================] - 0s 3ms/step - loss: 0.6509 - accuracy: 0.6667\n",
            "Epoch 16/100\n",
            "58/58 [==============================] - 0s 3ms/step - loss: 0.6593 - accuracy: 0.6736\n",
            "Epoch 17/100\n",
            "58/58 [==============================] - 0s 3ms/step - loss: 0.6415 - accuracy: 0.6823\n",
            "Epoch 18/100\n",
            "58/58 [==============================] - 0s 3ms/step - loss: 0.6267 - accuracy: 0.6771\n",
            "Epoch 19/100\n",
            "58/58 [==============================] - 0s 3ms/step - loss: 0.6488 - accuracy: 0.6736\n",
            "Epoch 20/100\n",
            "58/58 [==============================] - 0s 3ms/step - loss: 0.6227 - accuracy: 0.6788\n",
            "Epoch 21/100\n",
            "58/58 [==============================] - 0s 3ms/step - loss: 0.6218 - accuracy: 0.6667\n",
            "Epoch 22/100\n",
            "58/58 [==============================] - 0s 4ms/step - loss: 0.6450 - accuracy: 0.6701\n",
            "Epoch 23/100\n",
            "58/58 [==============================] - 0s 3ms/step - loss: 0.6288 - accuracy: 0.6823\n",
            "Epoch 24/100\n",
            "58/58 [==============================] - 0s 3ms/step - loss: 0.6420 - accuracy: 0.6684\n",
            "Epoch 25/100\n",
            "58/58 [==============================] - 0s 3ms/step - loss: 0.6224 - accuracy: 0.6753\n",
            "Epoch 26/100\n",
            "58/58 [==============================] - 0s 3ms/step - loss: 0.5929 - accuracy: 0.6997\n",
            "Epoch 27/100\n",
            "58/58 [==============================] - 0s 3ms/step - loss: 0.6043 - accuracy: 0.6979\n",
            "Epoch 28/100\n",
            "58/58 [==============================] - 0s 3ms/step - loss: 0.6277 - accuracy: 0.6719\n",
            "Epoch 29/100\n",
            "58/58 [==============================] - 0s 3ms/step - loss: 0.5945 - accuracy: 0.6910\n",
            "Epoch 30/100\n",
            "58/58 [==============================] - 0s 3ms/step - loss: 0.5917 - accuracy: 0.6997\n",
            "Epoch 31/100\n",
            "58/58 [==============================] - 0s 3ms/step - loss: 0.5905 - accuracy: 0.7118\n",
            "Epoch 32/100\n",
            "58/58 [==============================] - 0s 3ms/step - loss: 0.6077 - accuracy: 0.6753\n",
            "Epoch 33/100\n",
            "58/58 [==============================] - 0s 3ms/step - loss: 0.5899 - accuracy: 0.6927\n",
            "Epoch 34/100\n",
            "58/58 [==============================] - 0s 3ms/step - loss: 0.5841 - accuracy: 0.6997\n",
            "Epoch 35/100\n",
            "58/58 [==============================] - 0s 3ms/step - loss: 0.6116 - accuracy: 0.6858\n",
            "Epoch 36/100\n",
            "58/58 [==============================] - 0s 3ms/step - loss: 0.6168 - accuracy: 0.6806\n",
            "Epoch 37/100\n",
            "58/58 [==============================] - 0s 3ms/step - loss: 0.5775 - accuracy: 0.7031\n",
            "Epoch 38/100\n",
            "58/58 [==============================] - 0s 3ms/step - loss: 0.5765 - accuracy: 0.7118\n",
            "Epoch 39/100\n",
            "58/58 [==============================] - 0s 3ms/step - loss: 0.5938 - accuracy: 0.6944\n",
            "Epoch 40/100\n",
            "58/58 [==============================] - 0s 3ms/step - loss: 0.5776 - accuracy: 0.7170\n",
            "Epoch 41/100\n",
            "58/58 [==============================] - 0s 3ms/step - loss: 0.5758 - accuracy: 0.7118\n",
            "Epoch 42/100\n",
            "58/58 [==============================] - 0s 3ms/step - loss: 0.5718 - accuracy: 0.7049\n",
            "Epoch 43/100\n",
            "58/58 [==============================] - 0s 3ms/step - loss: 0.5684 - accuracy: 0.7240\n",
            "Epoch 44/100\n",
            "58/58 [==============================] - 0s 3ms/step - loss: 0.5597 - accuracy: 0.7153\n",
            "Epoch 45/100\n",
            "58/58 [==============================] - 0s 4ms/step - loss: 0.5650 - accuracy: 0.7118\n",
            "Epoch 46/100\n",
            "58/58 [==============================] - 0s 5ms/step - loss: 0.5672 - accuracy: 0.7153\n",
            "Epoch 47/100\n",
            "58/58 [==============================] - 0s 5ms/step - loss: 0.5833 - accuracy: 0.6997\n",
            "Epoch 48/100\n",
            "58/58 [==============================] - 0s 4ms/step - loss: 0.5530 - accuracy: 0.7101\n",
            "Epoch 49/100\n",
            "58/58 [==============================] - 0s 4ms/step - loss: 0.5597 - accuracy: 0.7240\n",
            "Epoch 50/100\n",
            "58/58 [==============================] - 0s 4ms/step - loss: 0.5635 - accuracy: 0.7153\n",
            "Epoch 51/100\n",
            "58/58 [==============================] - 0s 4ms/step - loss: 0.6026 - accuracy: 0.6858\n",
            "Epoch 52/100\n",
            "58/58 [==============================] - 0s 5ms/step - loss: 0.5584 - accuracy: 0.7240\n",
            "Epoch 53/100\n",
            "58/58 [==============================] - 0s 5ms/step - loss: 0.5552 - accuracy: 0.7205\n",
            "Epoch 54/100\n",
            "58/58 [==============================] - 0s 3ms/step - loss: 0.5600 - accuracy: 0.7083\n",
            "Epoch 55/100\n",
            "58/58 [==============================] - 0s 3ms/step - loss: 0.5688 - accuracy: 0.7135\n",
            "Epoch 56/100\n",
            "58/58 [==============================] - 0s 3ms/step - loss: 0.5765 - accuracy: 0.6997\n",
            "Epoch 57/100\n",
            "58/58 [==============================] - 0s 3ms/step - loss: 0.5647 - accuracy: 0.7049\n",
            "Epoch 58/100\n",
            "58/58 [==============================] - 0s 3ms/step - loss: 0.5444 - accuracy: 0.7083\n",
            "Epoch 59/100\n",
            "58/58 [==============================] - 0s 3ms/step - loss: 0.5736 - accuracy: 0.7118\n",
            "Epoch 60/100\n",
            "58/58 [==============================] - 0s 3ms/step - loss: 0.5444 - accuracy: 0.7378\n",
            "Epoch 61/100\n",
            "58/58 [==============================] - 0s 3ms/step - loss: 0.5577 - accuracy: 0.7205\n",
            "Epoch 62/100\n",
            "58/58 [==============================] - 0s 3ms/step - loss: 0.5423 - accuracy: 0.7361\n",
            "Epoch 63/100\n",
            "58/58 [==============================] - 0s 3ms/step - loss: 0.5544 - accuracy: 0.7222\n",
            "Epoch 64/100\n",
            "58/58 [==============================] - 0s 3ms/step - loss: 0.5417 - accuracy: 0.7344\n",
            "Epoch 65/100\n",
            "58/58 [==============================] - 0s 3ms/step - loss: 0.5558 - accuracy: 0.7205\n",
            "Epoch 66/100\n",
            "58/58 [==============================] - 0s 3ms/step - loss: 0.5702 - accuracy: 0.7118\n",
            "Epoch 67/100\n",
            "58/58 [==============================] - 0s 3ms/step - loss: 0.5427 - accuracy: 0.7465\n",
            "Epoch 68/100\n",
            "58/58 [==============================] - 0s 3ms/step - loss: 0.5563 - accuracy: 0.7222\n",
            "Epoch 69/100\n",
            "58/58 [==============================] - 0s 3ms/step - loss: 0.5507 - accuracy: 0.7396\n",
            "Epoch 70/100\n",
            "58/58 [==============================] - 0s 3ms/step - loss: 0.5409 - accuracy: 0.7465\n",
            "Epoch 71/100\n",
            "58/58 [==============================] - 0s 3ms/step - loss: 0.5365 - accuracy: 0.7257\n",
            "Epoch 72/100\n",
            "58/58 [==============================] - 0s 3ms/step - loss: 0.5463 - accuracy: 0.7326\n",
            "Epoch 73/100\n",
            "58/58 [==============================] - 0s 3ms/step - loss: 0.5406 - accuracy: 0.7378\n",
            "Epoch 74/100\n",
            "58/58 [==============================] - 0s 3ms/step - loss: 0.5450 - accuracy: 0.7188\n",
            "Epoch 75/100\n",
            "58/58 [==============================] - 0s 3ms/step - loss: 0.5444 - accuracy: 0.7378\n",
            "Epoch 76/100\n",
            "58/58 [==============================] - 0s 3ms/step - loss: 0.5413 - accuracy: 0.7413\n",
            "Epoch 77/100\n",
            "58/58 [==============================] - 0s 3ms/step - loss: 0.5425 - accuracy: 0.7326\n",
            "Epoch 78/100\n",
            "58/58 [==============================] - 0s 3ms/step - loss: 0.5300 - accuracy: 0.7326\n",
            "Epoch 79/100\n",
            "58/58 [==============================] - 0s 3ms/step - loss: 0.5453 - accuracy: 0.7500\n",
            "Epoch 80/100\n",
            "58/58 [==============================] - 0s 3ms/step - loss: 0.5396 - accuracy: 0.7361\n",
            "Epoch 81/100\n",
            "58/58 [==============================] - 0s 3ms/step - loss: 0.5261 - accuracy: 0.7448\n",
            "Epoch 82/100\n",
            "58/58 [==============================] - 0s 3ms/step - loss: 0.5425 - accuracy: 0.7378\n",
            "Epoch 83/100\n",
            "58/58 [==============================] - 0s 3ms/step - loss: 0.5205 - accuracy: 0.7396\n",
            "Epoch 84/100\n",
            "58/58 [==============================] - 0s 3ms/step - loss: 0.5424 - accuracy: 0.7378\n",
            "Epoch 85/100\n",
            "58/58 [==============================] - 0s 3ms/step - loss: 0.5297 - accuracy: 0.7361\n",
            "Epoch 86/100\n",
            "58/58 [==============================] - 0s 3ms/step - loss: 0.5214 - accuracy: 0.7569\n",
            "Epoch 87/100\n",
            "58/58 [==============================] - 0s 3ms/step - loss: 0.5219 - accuracy: 0.7500\n",
            "Epoch 88/100\n",
            "58/58 [==============================] - 0s 3ms/step - loss: 0.5275 - accuracy: 0.7552\n",
            "Epoch 89/100\n",
            "58/58 [==============================] - 0s 3ms/step - loss: 0.5266 - accuracy: 0.7396\n",
            "Epoch 90/100\n",
            "58/58 [==============================] - 0s 3ms/step - loss: 0.5199 - accuracy: 0.7413\n",
            "Epoch 91/100\n",
            "58/58 [==============================] - 0s 3ms/step - loss: 0.5244 - accuracy: 0.7274\n",
            "Epoch 92/100\n",
            "58/58 [==============================] - 0s 3ms/step - loss: 0.5404 - accuracy: 0.7205\n",
            "Epoch 93/100\n",
            "58/58 [==============================] - 0s 3ms/step - loss: 0.5177 - accuracy: 0.7500\n",
            "Epoch 94/100\n",
            "58/58 [==============================] - 0s 3ms/step - loss: 0.5198 - accuracy: 0.7587\n",
            "Epoch 95/100\n",
            "58/58 [==============================] - 0s 3ms/step - loss: 0.5354 - accuracy: 0.7569\n",
            "Epoch 96/100\n",
            "58/58 [==============================] - 0s 3ms/step - loss: 0.5114 - accuracy: 0.7431\n",
            "Epoch 97/100\n",
            "58/58 [==============================] - 0s 3ms/step - loss: 0.5286 - accuracy: 0.7535\n",
            "Epoch 98/100\n",
            "58/58 [==============================] - 0s 3ms/step - loss: 0.5121 - accuracy: 0.7517\n",
            "Epoch 99/100\n",
            "58/58 [==============================] - 0s 3ms/step - loss: 0.5142 - accuracy: 0.7517\n",
            "Epoch 100/100\n",
            "58/58 [==============================] - 0s 3ms/step - loss: 0.5186 - accuracy: 0.7448\n"
          ]
        },
        {
          "output_type": "execute_result",
          "data": {
            "text/plain": [
              "<keras.callbacks.History at 0x7f31909732e0>"
            ]
          },
          "metadata": {},
          "execution_count": 41
        }
      ]
    },
    {
      "cell_type": "code",
      "source": [],
      "metadata": {
        "id": "rEPemKANKKJi"
      },
      "execution_count": null,
      "outputs": []
    },
    {
      "cell_type": "markdown",
      "source": [
        "## *Evaluate the Model*"
      ],
      "metadata": {
        "id": "ojCkCPMFLVVo"
      }
    },
    {
      "cell_type": "markdown",
      "source": [],
      "metadata": {
        "id": "Q9mX3yeLLu-z"
      }
    },
    {
      "cell_type": "code",
      "source": [
        "model.evaluate(x_test,y_test,batch_size = 1)"
      ],
      "metadata": {
        "colab": {
          "base_uri": "https://localhost:8080/"
        },
        "id": "Hw6pmPRNLa9K",
        "outputId": "38b8ac52-8011-4d38-9f1b-755795c2c375"
      },
      "execution_count": 42,
      "outputs": [
        {
          "output_type": "stream",
          "name": "stdout",
          "text": [
            "192/192 [==============================] - 1s 3ms/step - loss: 0.5476 - accuracy: 0.7604\n"
          ]
        },
        {
          "output_type": "execute_result",
          "data": {
            "text/plain": [
              "[0.5475792288780212, 0.7604166865348816]"
            ]
          },
          "metadata": {},
          "execution_count": 42
        }
      ]
    },
    {
      "cell_type": "markdown",
      "source": [
        "Perform prediction on unseen data"
      ],
      "metadata": {
        "id": "JYDV6_eOLwF8"
      }
    },
    {
      "cell_type": "code",
      "source": [
        "new1 = [[2, 122, 70, 27, 0, 36.8, 0.340, 27 ]]\n",
        "new2 = [[1,\t126, 60, 0,\t 0, 30.1,\t0.349,\t47]]"
      ],
      "metadata": {
        "id": "kmz_nlMQLzvU"
      },
      "execution_count": 58,
      "outputs": []
    },
    {
      "cell_type": "code",
      "source": [
        "model.predict(new1)"
      ],
      "metadata": {
        "colab": {
          "base_uri": "https://localhost:8080/"
        },
        "id": "eishtwu7MGDR",
        "outputId": "8561346c-e509-4244-dea0-9f5d57d02680"
      },
      "execution_count": 59,
      "outputs": [
        {
          "output_type": "stream",
          "name": "stdout",
          "text": [
            "1/1 [==============================] - 0s 54ms/step\n"
          ]
        },
        {
          "output_type": "execute_result",
          "data": {
            "text/plain": [
              "array([[0.47870138]], dtype=float32)"
            ]
          },
          "metadata": {},
          "execution_count": 59
        }
      ]
    },
    {
      "cell_type": "code",
      "source": [
        "model.predict(new2)"
      ],
      "metadata": {
        "colab": {
          "base_uri": "https://localhost:8080/"
        },
        "id": "PVK4V_lqMKnd",
        "outputId": "381c0376-4e90-4f2c-dae1-514b92540e5b"
      },
      "execution_count": 60,
      "outputs": [
        {
          "output_type": "stream",
          "name": "stdout",
          "text": [
            "1/1 [==============================] - 0s 56ms/step\n"
          ]
        },
        {
          "output_type": "execute_result",
          "data": {
            "text/plain": [
              "array([[0.39448404]], dtype=float32)"
            ]
          },
          "metadata": {},
          "execution_count": 60
        }
      ]
    },
    {
      "cell_type": "code",
      "source": [
        "### output is probability so one has 47% and 39% probability that mean both has zero value"
      ],
      "metadata": {
        "id": "DcRR1DnUMNKe"
      },
      "execution_count": 61,
      "outputs": []
    },
    {
      "cell_type": "code",
      "source": [
        "###probability greater than 50% consider as one"
      ],
      "metadata": {
        "id": "6QsqeJZPNPfx"
      },
      "execution_count": 62,
      "outputs": []
    },
    {
      "cell_type": "code",
      "source": [],
      "metadata": {
        "id": "YhxVT8ZaNX8c"
      },
      "execution_count": null,
      "outputs": []
    }
  ]
}
{
  "nbformat": 4,
  "nbformat_minor": 0,
  "metadata": {
    "colab": {
      "provenance": [],
      "authorship_tag": "ABX9TyOkqyJfON8H0lsNXLy6HhuS",
      "include_colab_link": true
    },
    "kernelspec": {
      "name": "python3",
      "display_name": "Python 3"
    },
    "language_info": {
      "name": "python"
    }
  },
  "cells": [
    {
      "cell_type": "markdown",
      "metadata": {
        "id": "view-in-github",
        "colab_type": "text"
      },
      "source": [
        "<a href=\"https://colab.research.google.com/github/Mohammedaslaan/DataScience-AIML-Practicals/blob/main/ML-Assgn4-Gradient.ipynb\" target=\"_parent\"><img src=\"https://colab.research.google.com/assets/colab-badge.svg\" alt=\"Open In Colab\"/></a>"
      ]
    },
    {
      "cell_type": "markdown",
      "source": [
        "Implement Gradient Descent Algorithm to find the local minima of a function.\n",
        "For example, find the local minima of the function y=(x+3)² starting from the point x=2."
      ],
      "metadata": {
        "id": "jO37cYgOzoiv"
      }
    },
    {
      "cell_type": "code",
      "execution_count": 2,
      "metadata": {
        "colab": {
          "base_uri": "https://localhost:8080/"
        },
        "id": "kgDzu9j5x1pZ",
        "outputId": "3c4f612e-e551-4f8b-8554-ff75f438389a"
      },
      "outputs": [
        {
          "output_type": "stream",
          "name": "stdout",
          "text": [
            "Local Minima at : x =  -2.9999999915851645\n",
            "y = 7.080945640915995e-17\n"
          ]
        }
      ],
      "source": [
        "def fun(x):\n",
        "  return (x+3)**2\n",
        "\n",
        "def gradient(x):\n",
        "  return 2*(x+3)\n",
        "\n",
        "leanning_rate = 0.01\n",
        "iteration = 1000\n",
        "x = 2\n",
        "\n",
        "for i in range(iteration):\n",
        "  gradient_value = gradient(x)\n",
        "  x = x - gradient_value* leanning_rate\n",
        "\n",
        "Minima = fun(x)\n",
        "\n",
        "print('Local Minima at : x = ',x )\n",
        "print('y =',Minima)"
      ]
    },
    {
      "cell_type": "code",
      "source": [],
      "metadata": {
        "id": "PZVLTofV0djg"
      },
      "execution_count": null,
      "outputs": []
    }
  ]
}
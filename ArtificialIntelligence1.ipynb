{
  "nbformat": 4,
  "nbformat_minor": 0,
  "metadata": {
    "colab": {
      "provenance": [],
      "authorship_tag": "ABX9TyM72EBKj3mUZn1iCC0UQ2Ec",
      "include_colab_link": true
    },
    "kernelspec": {
      "name": "python3",
      "display_name": "Python 3"
    },
    "language_info": {
      "name": "python"
    }
  },
  "cells": [
    {
      "cell_type": "markdown",
      "metadata": {
        "id": "view-in-github",
        "colab_type": "text"
      },
      "source": [
        "<a href=\"https://colab.research.google.com/github/Mohammedaslaan/DataScience-AIML-Practicals/blob/main/ArtificialIntelligence1.ipynb\" target=\"_parent\"><img src=\"https://colab.research.google.com/assets/colab-badge.svg\" alt=\"Open In Colab\"/></a>"
      ]
    },
    {
      "cell_type": "code",
      "execution_count": 6,
      "metadata": {
        "id": "K-m9LoztkQJU"
      },
      "outputs": [],
      "source": [
        "graph = {\n",
        "    '1': ['2','3','4'],\n",
        "    '2' : ['5','6'],\n",
        "    '3' :[],\n",
        "    '4' :[],\n",
        "    '5':[],\n",
        "    '6':[],\n",
        "}"
      ]
    },
    {
      "cell_type": "code",
      "source": [
        "visited = []\n",
        "queue = []"
      ],
      "metadata": {
        "id": "widj-NttkzQV"
      },
      "execution_count": 7,
      "outputs": []
    },
    {
      "cell_type": "code",
      "source": [
        "def bfs(visited,graph,node):\n",
        "  visited.append(node)\n",
        "  queue.append(node)\n",
        "  while(queue):\n",
        "    m = queue.pop(0)\n",
        "    print(m,end=\" \")\n",
        "\n",
        "    for neighbour in graph[m]:\n",
        "      if neighbour not in visited:\n",
        "        visited.append(neighbour)\n",
        "        queue.append(neighbour)"
      ],
      "metadata": {
        "id": "uvXlj24Zk2A-"
      },
      "execution_count": 8,
      "outputs": []
    },
    {
      "cell_type": "code",
      "source": [
        "bfs(visited,graph,'2')"
      ],
      "metadata": {
        "colab": {
          "base_uri": "https://localhost:8080/"
        },
        "id": "6xAD86vilZnt",
        "outputId": "746c451b-31d8-46f5-d50a-dc426f94ab5c"
      },
      "execution_count": 9,
      "outputs": [
        {
          "output_type": "stream",
          "name": "stdout",
          "text": [
            "2 5 6 "
          ]
        }
      ]
    },
    {
      "cell_type": "code",
      "source": [
        "graph = {\n",
        "    '1': ['2','3','4'],\n",
        "    '2' : ['5','6'],\n",
        "    '3' :[],\n",
        "    '4' :[],\n",
        "    '5':[],\n",
        "    '6':[],\n",
        "}\n",
        "\n",
        "visited = set()"
      ],
      "metadata": {
        "id": "M8_fonsYldnD"
      },
      "execution_count": 10,
      "outputs": []
    },
    {
      "cell_type": "code",
      "source": [
        "def dfs(graph,visited,node):\n",
        "  if node not in visited:\n",
        "    print(node,end=\" \")\n",
        "    visited.add(node)\n",
        "    for neighbour in graph[node]:\n",
        "      dfs(graph,visited,neighbour)"
      ],
      "metadata": {
        "id": "kAE8p3fqmV8L"
      },
      "execution_count": 13,
      "outputs": []
    },
    {
      "cell_type": "code",
      "source": [
        "dfs(graph,visited,'1')"
      ],
      "metadata": {
        "colab": {
          "base_uri": "https://localhost:8080/"
        },
        "id": "GIywA8trmtRm",
        "outputId": "1cbdabe2-41b6-40b2-854c-92c477d9654d"
      },
      "execution_count": 14,
      "outputs": [
        {
          "output_type": "stream",
          "name": "stdout",
          "text": [
            "1 2 5 6 3 4 "
          ]
        }
      ]
    },
    {
      "cell_type": "code",
      "source": [],
      "metadata": {
        "id": "ExXKJM5amxGj"
      },
      "execution_count": 14,
      "outputs": []
    }
  ]
}
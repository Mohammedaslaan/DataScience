{
  "nbformat": 4,
  "nbformat_minor": 0,
  "metadata": {
    "colab": {
      "provenance": [],
      "authorship_tag": "ABX9TyMA96W6TvFqYxlk+3NG5mgG",
      "include_colab_link": true
    },
    "kernelspec": {
      "name": "python3",
      "display_name": "Python 3"
    },
    "language_info": {
      "name": "python"
    }
  },
  "cells": [
    {
      "cell_type": "markdown",
      "metadata": {
        "id": "view-in-github",
        "colab_type": "text"
      },
      "source": [
        "<a href=\"https://colab.research.google.com/github/Mohammedaslaan/DataScience-AIML-Practicals/blob/main/DAA-Assgn2-HuffmanCoding.ipynb\" target=\"_parent\"><img src=\"https://colab.research.google.com/assets/colab-badge.svg\" alt=\"Open In Colab\"/></a>"
      ]
    },
    {
      "cell_type": "code",
      "execution_count": 30,
      "metadata": {
        "id": "63XxSnCbeGfn"
      },
      "outputs": [],
      "source": [
        "import os\n",
        "import heapq"
      ]
    },
    {
      "cell_type": "code",
      "source": [
        "class huffmanCoding:\n",
        "  def __init__(self,path):\n",
        "    self.path = path\n",
        "    self.heap = []\n",
        "    self.code = {}\n",
        "\n",
        "  def make_frequency_dict(self,text):\n",
        "    frequency = {}\n",
        "    for character in text:\n",
        "      if character not in frequency:\n",
        "        frequency[character] = 0\n",
        "      frequency[character] +=1\n",
        "    return frequency\n",
        "\n",
        "  class HeapNode:\n",
        "    def __init__(self,char,freq):\n",
        "      self.char = char\n",
        "      self.freq = freq\n",
        "      self.left = None\n",
        "      self.right = None\n",
        "\n",
        "    def __lt__(self,other):\n",
        "      return self.freq < other.freq\n",
        "    def __eq__(self,other):\n",
        "      if(other == None):\n",
        "        return False\n",
        "      if(not isinstance(other,HeapNode)):\n",
        "        return False\n",
        "      return self.freq == other.freq\n",
        "  def make_heap(self,frequency):\n",
        "    for key in frequency:\n",
        "      node = self.HeapNode(key,frequency[key])\n",
        "      heapq.heappush(self.heap,node)\n",
        "\n",
        "  def make_code_helper(self,root,current_code):\n",
        "    if(root == None):\n",
        "      return\n",
        "    if(root.char != None):\n",
        "      self.code[root.char] = current_code\n",
        "      return\n",
        "    self.make_code_helper(root.left,current_code + \"0\")\n",
        "    self.make_code_helper(root.right,current_code + \"1\")\n",
        "\n",
        "  def make_code(self):\n",
        "    while len(self.heap) > 1:  # Keep popping until there's only one node\n",
        "            left = heapq.heappop(self.heap)\n",
        "            right = heapq.heappop(self.heap)\n",
        "            merged = self.HeapNode(None, left.freq + right.freq)\n",
        "            merged.left = left\n",
        "            merged.right = right\n",
        "            heapq.heappush(self.heap, merged)\n",
        "\n",
        "    if self.heap:\n",
        "            root = heapq.heappop(self.heap)\n",
        "            self.make_code_helper(root, \"\")\n",
        "\n",
        "  def get_encoded_text(self,text):\n",
        "    encoded_text = \"\"\n",
        "    for char in text:\n",
        "      encoded_text += self.code[char]\n",
        "    return encoded_text\n",
        "\n",
        "  def compress(self):\n",
        "    filename , file_extension = os.path.splitext(path)\n",
        "    output_path = filename + \".bin\"\n",
        "\n",
        "    with open(self.path,'r') as file, open(output_path,'wb') as output:\n",
        "      text = file.read()\n",
        "      text = text.rstrip()\n",
        "\n",
        "      frequency = self.make_frequency_dict(text);\n",
        "\n",
        "      self.make_heap(frequency)\n",
        "\n",
        "      self.make_code()\n",
        "      print(self.code)\n",
        "      encoded_text = self.get_encoded_text(text)\n",
        "      print(encoded_text)\n"
      ],
      "metadata": {
        "id": "XCN2i89MeNFH"
      },
      "execution_count": 111,
      "outputs": []
    },
    {
      "cell_type": "code",
      "source": [
        "if __name__ == \"__main__\":\n",
        "    path = \"/content/input2.txt\"\n",
        "    huffman = huffmanCoding(path)\n",
        "    huffman.compress()\n",
        "    print(\"Compression completed. Output saved as .bin file.\")"
      ],
      "metadata": {
        "colab": {
          "base_uri": "https://localhost:8080/"
        },
        "id": "qu8EKt6ihy5N",
        "outputId": "4bb5b659-75bb-4517-fd4c-4b5a7d20c2b8"
      },
      "execution_count": 112,
      "outputs": [
        {
          "output_type": "stream",
          "name": "stdout",
          "text": [
            "{'r': '000', 'e': '001', 'a': '0100', 't': '0101', 'c': '0110', 'd': '01110', 'h': '01111', 's': '1000', 'i': '1001', ' ': '101', 'm': '11000', 'H': '1100100', 'g': '1100101', 'u': '110011', 'f': '1101', 'o': '1110', 'p': '1111000', 'q': '1111001', '.': '1111010', 'w': '1111011', 'n': '11111'}\n",
            "110010011001111011101110000100111111010110111001110100111111110010110110011000101001110111011001011010010011111101011011101111000010101110010001010100101011011101100011110000000011000100010011110111111011111011100101010111110110000111111100000101001000101011011100111000110001011101111000010111000111000000110111010000011111001110011001111110101101011001111010000001000110010100100010001111010\n",
            "Compression completed. Output saved as .bin file.\n"
          ]
        }
      ]
    },
    {
      "cell_type": "code",
      "source": [],
      "metadata": {
        "id": "plj_Zx11_qIJ"
      },
      "execution_count": null,
      "outputs": []
    }
  ]
}
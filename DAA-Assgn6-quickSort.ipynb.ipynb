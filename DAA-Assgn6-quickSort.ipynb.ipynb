{
  "nbformat": 4,
  "nbformat_minor": 0,
  "metadata": {
    "colab": {
      "provenance": [],
      "authorship_tag": "ABX9TyPYgEyWtgTLfyObPGGXPFex",
      "include_colab_link": true
    },
    "kernelspec": {
      "name": "python3",
      "display_name": "Python 3"
    },
    "language_info": {
      "name": "python"
    }
  },
  "cells": [
    {
      "cell_type": "markdown",
      "metadata": {
        "id": "view-in-github",
        "colab_type": "text"
      },
      "source": [
        "<a href=\"https://colab.research.google.com/github/Mohammedaslaan/DataScience-AIML-Practicals/blob/main/DAA-Assgn6-quickSort.ipynb.ipynb\" target=\"_parent\"><img src=\"https://colab.research.google.com/assets/colab-badge.svg\" alt=\"Open In Colab\"/></a>"
      ]
    },
    {
      "cell_type": "code",
      "execution_count": 202,
      "metadata": {
        "id": "63XxSnCbeGfn"
      },
      "outputs": [],
      "source": [
        "import random\n",
        "import time"
      ]
    },
    {
      "cell_type": "code",
      "source": [
        "def quick_sort(arr):\n",
        "  if len(arr) <=1:\n",
        "    return arr\n",
        "  pivot = arr[0]\n",
        "  left = [x for x in arr[1:] if x <= pivot]\n",
        "  right = [x for x in arr[1:] if x > pivot ]\n",
        "  return quick_sort(left) + [pivot] + quick_sort(right)"
      ],
      "metadata": {
        "id": "plj_Zx11_qIJ"
      },
      "execution_count": 203,
      "outputs": []
    },
    {
      "cell_type": "code",
      "source": [
        "def randomized_quick_sort(arr):\n",
        "  if len(arr) <=1:\n",
        "    return arr\n",
        "\n",
        "  pivot_index = random.randint(0,len(arr)-1);\n",
        "  pivot = arr[pivot_index]\n",
        "  left = [ x for x in arr[ : pivot_index] + arr[pivot_index + 1:] if x <= pivot]\n",
        "  right = [x for x in arr[:pivot_index] + arr[pivot_index+1 : ] if  x > pivot]\n",
        "\n",
        "  return randomized_quick_sort(left) + [pivot] + randomized_quick_sort(right)"
      ],
      "metadata": {
        "id": "9DEpe8x1ai6W"
      },
      "execution_count": 204,
      "outputs": []
    },
    {
      "cell_type": "code",
      "source": [
        "import time\n",
        "def quicksort_with_time_analysis(arr,variant=\"deterministc\"):\n",
        "  start = time.time()\n",
        "  sorted_arr = []\n",
        "  if(variant == \"deterministc\"):\n",
        "    sorted_arr += quick_sort(arr)\n",
        "  if (variant == \"random\"):\n",
        "    sorted_arr += randomized_quick_sort(arr)\n",
        "  end = time.time()\n",
        "  return sorted_arr, end-start"
      ],
      "metadata": {
        "id": "L8sFGF8ozntI"
      },
      "execution_count": 205,
      "outputs": []
    },
    {
      "cell_type": "code",
      "source": [
        "arr = [3, 6, 8, 10, 1, 2, 1]\n",
        "sorted_arr_det= quick_sort(arr)\n",
        "sorted_arr_rand= randomized_quick_sort(arr)\n",
        "sort_arr, timediff = quicksort_with_time_analysis(arr,\"deterministc\")\n",
        "print(sort_arr, \"And the time of execution is : \",timediff)"
      ],
      "metadata": {
        "colab": {
          "base_uri": "https://localhost:8080/"
        },
        "id": "UECY555jal0g",
        "outputId": "6443e683-1c03-4d36-bdba-d1b1b5b049b2"
      },
      "execution_count": 206,
      "outputs": [
        {
          "output_type": "stream",
          "name": "stdout",
          "text": [
            "[1, 1, 2, 3, 6, 8, 10] And the time of execution is :  1.5735626220703125e-05\n"
          ]
        }
      ]
    },
    {
      "cell_type": "code",
      "source": [
        "sort_arr , time = quicksort_with_time_analysis(arr,\"random\")\n",
        "print(sort_arr, \"And the time of execution is : \",time)"
      ],
      "metadata": {
        "colab": {
          "base_uri": "https://localhost:8080/"
        },
        "id": "Xyk4OeHuzeq9",
        "outputId": "f6709dbc-1cd9-4b98-e154-e01c0b44fd12"
      },
      "execution_count": 207,
      "outputs": [
        {
          "output_type": "stream",
          "name": "stdout",
          "text": [
            "[1, 1, 2, 3, 6, 8, 10] And the time of execution is :  4.363059997558594e-05\n"
          ]
        }
      ]
    },
    {
      "cell_type": "code",
      "source": [
        "print(sorted_arr_rand)"
      ],
      "metadata": {
        "colab": {
          "base_uri": "https://localhost:8080/"
        },
        "id": "Hs507FZszh8e",
        "outputId": "39780901-56ee-4447-f00e-3ad2c51943a3"
      },
      "execution_count": 173,
      "outputs": [
        {
          "output_type": "stream",
          "name": "stdout",
          "text": [
            "[1, 1, 2, 3, 6, 8, 10]\n"
          ]
        }
      ]
    },
    {
      "cell_type": "code",
      "source": [],
      "metadata": {
        "id": "VMBGVL_CzjfF"
      },
      "execution_count": null,
      "outputs": []
    }
  ]
}
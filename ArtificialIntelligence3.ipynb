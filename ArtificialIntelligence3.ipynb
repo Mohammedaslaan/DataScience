{
  "nbformat": 4,
  "nbformat_minor": 0,
  "metadata": {
    "colab": {
      "provenance": [],
      "authorship_tag": "ABX9TyMIIs6CpLsihD3IMIB9hScy",
      "include_colab_link": true
    },
    "kernelspec": {
      "name": "python3",
      "display_name": "Python 3"
    },
    "language_info": {
      "name": "python"
    }
  },
  "cells": [
    {
      "cell_type": "markdown",
      "metadata": {
        "id": "view-in-github",
        "colab_type": "text"
      },
      "source": [
        "<a href=\"https://colab.research.google.com/github/Mohammedaslaan/DataScience-AIML-Practicals/blob/main/ArtificialIntelligence3.ipynb\" target=\"_parent\"><img src=\"https://colab.research.google.com/assets/colab-badge.svg\" alt=\"Open In Colab\"/></a>"
      ]
    },
    {
      "cell_type": "code",
      "source": [
        "def selectionsort(array,size,pos = 0):\n",
        "  if(pos == size):\n",
        "    return\n",
        "  min_value = array[pos]\n",
        "  min_index = pos\n",
        "\n",
        "  for i in range(pos+1,size):\n",
        "    if(array[i]<min_value):\n",
        "      min_value = array[i]\n",
        "      min_index = i\n",
        "  \n",
        "  array[min_index], array[pos]  = array[pos], array[min_index]\n",
        "  selectionsort(array,size,pos+1)"
      ],
      "metadata": {
        "id": "DnlMtr_SnPa_"
      },
      "execution_count": 16,
      "outputs": []
    },
    {
      "cell_type": "code",
      "source": [
        "array = [12,85,1,59,-80]\n",
        "size = len(array)\n",
        "selectionsort(array,size)"
      ],
      "metadata": {
        "id": "hbCLHokNny8B"
      },
      "execution_count": 17,
      "outputs": []
    },
    {
      "cell_type": "code",
      "source": [
        "array"
      ],
      "metadata": {
        "colab": {
          "base_uri": "https://localhost:8080/"
        },
        "id": "K0mwk52Ln-Tl",
        "outputId": "30356619-8a9d-4f14-8b10-a01b5892b5c5"
      },
      "execution_count": 18,
      "outputs": [
        {
          "output_type": "execute_result",
          "data": {
            "text/plain": [
              "[-80, 1, 12, 59, 85]"
            ]
          },
          "metadata": {},
          "execution_count": 18
        }
      ]
    },
    {
      "cell_type": "code",
      "source": [
        "def job_scheduling(jobs):\n",
        "    # Sort jobs in descending order of their profits\n",
        "    jobs.sort(key=lambda x: x[2], reverse=True)\n",
        "    \n",
        "    n = len(jobs)\n",
        "    result = [-1] * n  # Array to store the sequence of scheduled jobs\n",
        "    slots = [False] * n  # Array to track available slots\n",
        "    \n",
        "    for i in range(n):\n",
        "        # Find an available slot starting from the deadline and moving towards 0\n",
        "        for j in range(min(n, jobs[i][1]) - 1, -1, -1):\n",
        "            if slots[j] is False:\n",
        "                result[j] = jobs[i][0]\n",
        "                slots[j] = True\n",
        "                break\n",
        "    \n",
        "    return result\n",
        "\n",
        "# Example usage\n",
        "jobs = [\n",
        "    (\"Job1\", 4, 70),\n",
        "    (\"Job2\", 1, 80),\n",
        "    (\"Job3\", 1, 30),\n",
        "    (\"Job4\", 1, 100),\n",
        "    (\"Job5\", 6, 20),\n",
        "]\n",
        "\n",
        "scheduled_jobs = job_scheduling(jobs)\n",
        "print(scheduled_jobs)\n"
      ],
      "metadata": {
        "colab": {
          "base_uri": "https://localhost:8080/"
        },
        "id": "3WpWFt1gn_7_",
        "outputId": "4002f8c6-6b9a-432b-a974-29c0b30418af"
      },
      "execution_count": 23,
      "outputs": [
        {
          "output_type": "stream",
          "name": "stdout",
          "text": [
            "['Job4', -1, -1, 'Job1', 'Job5']\n"
          ]
        }
      ]
    },
    {
      "cell_type": "code",
      "source": [
        "jobs = [\n",
        "    (\"job1\",4,70),\n",
        "    (\"job2\",1,80),\n",
        "    (\"job3\",1,30),\n",
        "    (\"job4\",1,100),\n",
        "    (\"job5\",6,20),\n",
        "]\n",
        "\n",
        "def job_scheduling(jobs):\n",
        "  # sort the jobs in descending order of their profits\n",
        "  jobs.sort(key=lambda x: x[2], reverse=True)\n",
        "  n = len(jobs)\n",
        "\n",
        "  result = [-1]*n\n",
        "  slots = [False]*n\n",
        "  for i in range(n):\n",
        "    for j in range(min(n,jobs[i][1])-1,-1,-1):\n",
        "      if slots[j] is False:\n",
        "        result[j] = jobs[i][0]\n",
        "        slots[j] = True\n",
        "        break\n",
        "  return result\n"
      ],
      "metadata": {
        "id": "czhx-jl-sbj6"
      },
      "execution_count": 21,
      "outputs": []
    },
    {
      "cell_type": "code",
      "source": [
        "job_scheduling(jobs)"
      ],
      "metadata": {
        "colab": {
          "base_uri": "https://localhost:8080/"
        },
        "id": "t9RhLoM8swcg",
        "outputId": "f3af2016-135a-4c23-e9b8-6471f60dfeae"
      },
      "execution_count": 22,
      "outputs": [
        {
          "output_type": "execute_result",
          "data": {
            "text/plain": [
              "['job4', -1, -1, 'job1', 'job5']"
            ]
          },
          "metadata": {},
          "execution_count": 22
        }
      ]
    },
    {
      "cell_type": "code",
      "source": [],
      "metadata": {
        "id": "1th_554IuqcE"
      },
      "execution_count": null,
      "outputs": []
    }
  ]
}
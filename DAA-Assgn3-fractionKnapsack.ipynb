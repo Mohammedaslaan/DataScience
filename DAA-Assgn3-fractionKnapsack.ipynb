{
  "nbformat": 4,
  "nbformat_minor": 0,
  "metadata": {
    "colab": {
      "provenance": [],
      "authorship_tag": "ABX9TyNhR8nINHFKA1bdWGvajg6b",
      "include_colab_link": true
    },
    "kernelspec": {
      "name": "python3",
      "display_name": "Python 3"
    },
    "language_info": {
      "name": "python"
    }
  },
  "cells": [
    {
      "cell_type": "markdown",
      "metadata": {
        "id": "view-in-github",
        "colab_type": "text"
      },
      "source": [
        "<a href=\"https://colab.research.google.com/github/Mohammedaslaan/DataScience-AIML-Practicals/blob/main/DAA-Assgn3-fractionKnapsack.ipynb\" target=\"_parent\"><img src=\"https://colab.research.google.com/assets/colab-badge.svg\" alt=\"Open In Colab\"/></a>"
      ]
    },
    {
      "cell_type": "code",
      "execution_count": 160,
      "metadata": {
        "id": "63XxSnCbeGfn"
      },
      "outputs": [],
      "source": [
        "  #items = [(2,10),(3,5),(5,15),(7,7),(1,6)]\n",
        "  #[2,10] = 2 kg of 10 rupeess\n",
        "  #capacity = 10\n",
        "\n",
        "  items = [(2,10),(3,5),(5,15),(7,7),(1,6)]\n",
        "  capacity = 10\n",
        "\n",
        "  def solve_knapsack(items,capacity):\n",
        "    value_item_ratio = [(item[1]/item[0],item) for item in items]\n",
        "    value_item_ratio.sort(reverse=True)\n",
        "\n",
        "    total_value = 0\n",
        "    knapsack = []\n",
        "    for value_weight_ratio, item in value_item_ratio:\n",
        "      #print(value_weight_ratio,item)\n",
        "      if capacity >= item[0]:\n",
        "        knapsack.append((item,1))\n",
        "        total_value += item[1]\n",
        "        capacity -= item[0]\n",
        "      else:\n",
        "        fraction = capacity / item[0]\n",
        "        knapsack.append((item,fraction))\n",
        "        total_value += item[1]*fraction\n",
        "        break\n",
        "        capacity -= item[0] * fraction\n",
        "    return total_value, knapsack"
      ]
    },
    {
      "cell_type": "code",
      "source": [
        "maximum_value, knapsack = solve_knapsack(items,capacity)\n",
        "print(maximum_value,knapsack)"
      ],
      "metadata": {
        "colab": {
          "base_uri": "https://localhost:8080/"
        },
        "id": "plj_Zx11_qIJ",
        "outputId": "2bb732f6-841c-4ae4-c56a-c7b95cd90685"
      },
      "execution_count": 161,
      "outputs": [
        {
          "output_type": "stream",
          "name": "stdout",
          "text": [
            "34.333333333333336 [((1, 6), 1), ((2, 10), 1), ((5, 15), 1), ((3, 5), 0.6666666666666666)]\n"
          ]
        }
      ]
    },
    {
      "cell_type": "code",
      "source": [],
      "metadata": {
        "colab": {
          "base_uri": "https://localhost:8080/"
        },
        "id": "9DEpe8x1ai6W",
        "outputId": "71fe0a9f-4fb2-4ee3-a020-caea03829eee"
      },
      "execution_count": 142,
      "outputs": [
        {
          "output_type": "stream",
          "name": "stdout",
          "text": [
            "34.333333333333336\n",
            "[((1, 6), 1), ((2, 10), 1), ((5, 15), 1), ((3, 5), 0.6666666666666666)]\n"
          ]
        }
      ]
    },
    {
      "cell_type": "code",
      "source": [],
      "metadata": {
        "id": "UECY555jal0g"
      },
      "execution_count": null,
      "outputs": []
    }
  ]
}
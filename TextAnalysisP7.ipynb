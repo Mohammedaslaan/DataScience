{
  "nbformat": 4,
  "nbformat_minor": 0,
  "metadata": {
    "colab": {
      "provenance": [],
      "authorship_tag": "ABX9TyM8xr7QxcBFDUuvvQlnb98y",
      "include_colab_link": true
    },
    "kernelspec": {
      "name": "python3",
      "display_name": "Python 3"
    },
    "language_info": {
      "name": "python"
    }
  },
  "cells": [
    {
      "cell_type": "markdown",
      "metadata": {
        "id": "view-in-github",
        "colab_type": "text"
      },
      "source": [
        "<a href=\"https://colab.research.google.com/github/Mohammedaslaan/DataScience-AIML-Practicals/blob/main/TextAnalysisP7.ipynb\" target=\"_parent\"><img src=\"https://colab.research.google.com/assets/colab-badge.svg\" alt=\"Open In Colab\"/></a>"
      ]
    },
    {
      "cell_type": "code",
      "execution_count": 74,
      "metadata": {
        "id": "Huxl177-BLv3"
      },
      "outputs": [],
      "source": [
        "sentence1 = \"I will walk 500 miles and I would walk 500 more. Just to be the man who walks a thousand miles to fall down at your door!\"\n",
        "sentence2 = \"I played the play playfully as the players were playing in the play with playfullness\""
      ]
    },
    {
      "cell_type": "code",
      "source": [
        "sentence1\n"
      ],
      "metadata": {
        "colab": {
          "base_uri": "https://localhost:8080/",
          "height": 36
        },
        "id": "IxoA0K_XdwtR",
        "outputId": "0a58f819-b8c5-45af-beb2-72f2bb7e5eb3"
      },
      "execution_count": 75,
      "outputs": [
        {
          "output_type": "execute_result",
          "data": {
            "text/plain": [
              "'I will walk 500 miles and I would walk 500 more. Just to be the man who walks a thousand miles to fall down at your door!'"
            ],
            "application/vnd.google.colaboratory.intrinsic+json": {
              "type": "string"
            }
          },
          "metadata": {},
          "execution_count": 75
        }
      ]
    },
    {
      "cell_type": "code",
      "source": [
        "sentence2"
      ],
      "metadata": {
        "colab": {
          "base_uri": "https://localhost:8080/",
          "height": 36
        },
        "id": "dcs2gMjFdxdv",
        "outputId": "3c799398-225c-488b-b3e8-f171793bf5f7"
      },
      "execution_count": 76,
      "outputs": [
        {
          "output_type": "execute_result",
          "data": {
            "text/plain": [
              "'I played the play playfully as the players were playing in the play with playfullness'"
            ],
            "application/vnd.google.colaboratory.intrinsic+json": {
              "type": "string"
            }
          },
          "metadata": {},
          "execution_count": 76
        }
      ]
    },
    {
      "cell_type": "code",
      "source": [
        "import nltk\n",
        "from nltk import word_tokenize , sent_tokenize\n",
        "# to use word_tokenize and sent_tokenize. we must have to download punkt from nltk\n",
        "nltk.download('punkt')"
      ],
      "metadata": {
        "colab": {
          "base_uri": "https://localhost:8080/"
        },
        "id": "SO5qsfXydyOy",
        "outputId": "32c65390-2141-4590-fd62-c95c134aa6c2"
      },
      "execution_count": 83,
      "outputs": [
        {
          "output_type": "stream",
          "name": "stderr",
          "text": [
            "[nltk_data] Downloading package punkt to /root/nltk_data...\n",
            "[nltk_data]   Unzipping tokenizers/punkt.zip.\n"
          ]
        },
        {
          "output_type": "execute_result",
          "data": {
            "text/plain": [
              "True"
            ]
          },
          "metadata": {},
          "execution_count": 83
        }
      ]
    },
    {
      "cell_type": "code",
      "source": [
        "sent_tokenize(sentence1)"
      ],
      "metadata": {
        "colab": {
          "base_uri": "https://localhost:8080/"
        },
        "id": "3DXbLrUKd_lX",
        "outputId": "b02be8c4-d254-41cc-e73b-9d471938f648"
      },
      "execution_count": 84,
      "outputs": [
        {
          "output_type": "execute_result",
          "data": {
            "text/plain": [
              "['I will walk 500 miles and I would walk 500 more.',\n",
              " 'Just to be the man who walks a thousand miles to fall down at your door!']"
            ]
          },
          "metadata": {},
          "execution_count": 84
        }
      ]
    },
    {
      "cell_type": "code",
      "source": [
        "token1 = word_tokenize(sentence1)\n",
        "token1"
      ],
      "metadata": {
        "colab": {
          "base_uri": "https://localhost:8080/"
        },
        "id": "ESfr00zIeFDg",
        "outputId": "be57d735-9520-41de-c5b7-6382f7d81c69"
      },
      "execution_count": 85,
      "outputs": [
        {
          "output_type": "execute_result",
          "data": {
            "text/plain": [
              "['I',\n",
              " 'will',\n",
              " 'walk',\n",
              " '500',\n",
              " 'miles',\n",
              " 'and',\n",
              " 'I',\n",
              " 'would',\n",
              " 'walk',\n",
              " '500',\n",
              " 'more',\n",
              " '.',\n",
              " 'Just',\n",
              " 'to',\n",
              " 'be',\n",
              " 'the',\n",
              " 'man',\n",
              " 'who',\n",
              " 'walks',\n",
              " 'a',\n",
              " 'thousand',\n",
              " 'miles',\n",
              " 'to',\n",
              " 'fall',\n",
              " 'down',\n",
              " 'at',\n",
              " 'your',\n",
              " 'door',\n",
              " '!']"
            ]
          },
          "metadata": {},
          "execution_count": 85
        }
      ]
    },
    {
      "cell_type": "code",
      "source": [
        "token2 = word_tokenize(sentence2)"
      ],
      "metadata": {
        "id": "ZeFJ07NKejyJ"
      },
      "execution_count": 86,
      "outputs": []
    },
    {
      "cell_type": "code",
      "source": [
        "token2"
      ],
      "metadata": {
        "colab": {
          "base_uri": "https://localhost:8080/"
        },
        "id": "rzXz4MIcenou",
        "outputId": "54600f36-1308-4c0b-a910-7f62f53f248f"
      },
      "execution_count": 87,
      "outputs": [
        {
          "output_type": "execute_result",
          "data": {
            "text/plain": [
              "['I',\n",
              " 'played',\n",
              " 'the',\n",
              " 'play',\n",
              " 'playfully',\n",
              " 'as',\n",
              " 'the',\n",
              " 'players',\n",
              " 'were',\n",
              " 'playing',\n",
              " 'in',\n",
              " 'the',\n",
              " 'play',\n",
              " 'with',\n",
              " 'playfullness']"
            ]
          },
          "metadata": {},
          "execution_count": 87
        }
      ]
    },
    {
      "cell_type": "code",
      "source": [
        "from nltk import pos_tag\n",
        "# to use pos tagger we must have to download averaged_perceptron_tagger from nltk.download()\n",
        "nltk.download('averaged_perceptron_tagger')"
      ],
      "metadata": {
        "colab": {
          "base_uri": "https://localhost:8080/"
        },
        "id": "t8h2uGBTeovx",
        "outputId": "93146199-97ae-48ee-b08d-de3f68689ff4"
      },
      "execution_count": 91,
      "outputs": [
        {
          "output_type": "stream",
          "name": "stderr",
          "text": [
            "[nltk_data] Downloading package averaged_perceptron_tagger to\n",
            "[nltk_data]     /root/nltk_data...\n",
            "[nltk_data]   Unzipping taggers/averaged_perceptron_tagger.zip.\n"
          ]
        },
        {
          "output_type": "execute_result",
          "data": {
            "text/plain": [
              "True"
            ]
          },
          "metadata": {},
          "execution_count": 91
        }
      ]
    },
    {
      "cell_type": "code",
      "source": [
        "tagged_token1 = pos_tag(token1)"
      ],
      "metadata": {
        "id": "V5yuvfTCetXy"
      },
      "execution_count": 93,
      "outputs": []
    },
    {
      "cell_type": "code",
      "source": [
        "tagged_token2 = pos_tag(token2)"
      ],
      "metadata": {
        "id": "AD7xlPZ5e1Ft"
      },
      "execution_count": 94,
      "outputs": []
    },
    {
      "cell_type": "code",
      "source": [
        "tagged_token2"
      ],
      "metadata": {
        "colab": {
          "base_uri": "https://localhost:8080/"
        },
        "id": "eDXbav0ZfLy-",
        "outputId": "b6e551c1-09dc-4d31-c029-350abf549616"
      },
      "execution_count": 95,
      "outputs": [
        {
          "output_type": "execute_result",
          "data": {
            "text/plain": [
              "[('I', 'PRP'),\n",
              " ('played', 'VBD'),\n",
              " ('the', 'DT'),\n",
              " ('play', 'NN'),\n",
              " ('playfully', 'RB'),\n",
              " ('as', 'IN'),\n",
              " ('the', 'DT'),\n",
              " ('players', 'NNS'),\n",
              " ('were', 'VBD'),\n",
              " ('playing', 'VBG'),\n",
              " ('in', 'IN'),\n",
              " ('the', 'DT'),\n",
              " ('play', 'NN'),\n",
              " ('with', 'IN'),\n",
              " ('playfullness', 'NN')]"
            ]
          },
          "metadata": {},
          "execution_count": 95
        }
      ]
    },
    {
      "cell_type": "code",
      "source": [
        "from nltk.corpus import stopwords\n",
        "# to get all the stop words of any language. we first have to download it from nltk.download('stopwords)\n",
        "nltk.download('stopwords')"
      ],
      "metadata": {
        "colab": {
          "base_uri": "https://localhost:8080/"
        },
        "id": "qeQzM5wnfNUy",
        "outputId": "b09add9e-3ce0-4458-979a-a24d67532d44"
      },
      "execution_count": 102,
      "outputs": [
        {
          "output_type": "stream",
          "name": "stderr",
          "text": [
            "[nltk_data] Downloading package stopwords to /root/nltk_data...\n",
            "[nltk_data]   Unzipping corpora/stopwords.zip.\n"
          ]
        },
        {
          "output_type": "execute_result",
          "data": {
            "text/plain": [
              "True"
            ]
          },
          "metadata": {},
          "execution_count": 102
        }
      ]
    },
    {
      "cell_type": "code",
      "source": [
        "stop_words = stopwords.words('english')"
      ],
      "metadata": {
        "id": "9k4DVgqafT-d"
      },
      "execution_count": 104,
      "outputs": []
    },
    {
      "cell_type": "code",
      "source": [
        "clean_token1 = []\n",
        "clean_token2 = []\n",
        "for word in token1:\n",
        "  if word not in stop_words:\n",
        "    clean_token1.append(word)\n",
        "\n",
        "for word in token2:\n",
        "  if word not in stop_words:\n",
        "    clean_token2.append(word)"
      ],
      "metadata": {
        "id": "1dxUoeL-fhfn"
      },
      "execution_count": 105,
      "outputs": []
    },
    {
      "cell_type": "code",
      "source": [
        "clean_token1"
      ],
      "metadata": {
        "colab": {
          "base_uri": "https://localhost:8080/"
        },
        "id": "RmsTEJdDgTk8",
        "outputId": "e68a21f9-4c57-43dc-90b1-6b00cb2b7385"
      },
      "execution_count": 106,
      "outputs": [
        {
          "output_type": "execute_result",
          "data": {
            "text/plain": [
              "['I',\n",
              " 'walk',\n",
              " '500',\n",
              " 'miles',\n",
              " 'I',\n",
              " 'would',\n",
              " 'walk',\n",
              " '500',\n",
              " '.',\n",
              " 'Just',\n",
              " 'man',\n",
              " 'walks',\n",
              " 'thousand',\n",
              " 'miles',\n",
              " 'fall',\n",
              " 'door',\n",
              " '!']"
            ]
          },
          "metadata": {},
          "execution_count": 106
        }
      ]
    },
    {
      "cell_type": "code",
      "source": [
        "clean_token2"
      ],
      "metadata": {
        "colab": {
          "base_uri": "https://localhost:8080/"
        },
        "id": "LmillCvMgVHU",
        "outputId": "d2ee211d-1f08-48e2-94a5-18de6278f323"
      },
      "execution_count": 107,
      "outputs": [
        {
          "output_type": "execute_result",
          "data": {
            "text/plain": [
              "['I',\n",
              " 'played',\n",
              " 'play',\n",
              " 'playfully',\n",
              " 'players',\n",
              " 'playing',\n",
              " 'play',\n",
              " 'playfullness']"
            ]
          },
          "metadata": {},
          "execution_count": 107
        }
      ]
    },
    {
      "cell_type": "code",
      "source": [
        "from nltk.stem import PorterStemmer"
      ],
      "metadata": {
        "id": "PFc_TQiKgWlY"
      },
      "execution_count": 108,
      "outputs": []
    },
    {
      "cell_type": "code",
      "source": [
        "stemmer = PorterStemmer()"
      ],
      "metadata": {
        "id": "AjhCgEXlglAi"
      },
      "execution_count": 109,
      "outputs": []
    },
    {
      "cell_type": "code",
      "source": [
        "stemmed1 = [stemmer.stem(word) for word in token1]"
      ],
      "metadata": {
        "id": "rMoxb-UAg6Jz"
      },
      "execution_count": 112,
      "outputs": []
    },
    {
      "cell_type": "code",
      "source": [
        "print(\" \".join(stemmed1))"
      ],
      "metadata": {
        "colab": {
          "base_uri": "https://localhost:8080/"
        },
        "id": "UWW_N33PhC7N",
        "outputId": "a68a6757-50d9-4ad7-b0d1-7b1da7d55f7c"
      },
      "execution_count": 130,
      "outputs": [
        {
          "output_type": "stream",
          "name": "stdout",
          "text": [
            "i will walk 500 mile and i would walk 500 more . just to be the man who walk a thousand mile to fall down at your door !\n"
          ]
        }
      ]
    },
    {
      "cell_type": "code",
      "source": [
        "stemmed2 = [stemmer.stem(word) for word in token2]"
      ],
      "metadata": {
        "id": "6uUFQaxehZhp"
      },
      "execution_count": 114,
      "outputs": []
    },
    {
      "cell_type": "code",
      "source": [
        "print(\" \".join(stemmed2))"
      ],
      "metadata": {
        "colab": {
          "base_uri": "https://localhost:8080/"
        },
        "id": "le5jTEJahgbS",
        "outputId": "464778e5-5305-4aaf-f411-bebb4ed332ba"
      },
      "execution_count": 131,
      "outputs": [
        {
          "output_type": "stream",
          "name": "stdout",
          "text": [
            "i play the play play as the player were play in the play with playful\n"
          ]
        }
      ]
    },
    {
      "cell_type": "code",
      "source": [
        "from nltk.stem import WordNetLemmatizer\n"
      ],
      "metadata": {
        "id": "zQM25_L2hg2o"
      },
      "execution_count": 117,
      "outputs": []
    },
    {
      "cell_type": "code",
      "source": [
        "lemmatizer = WordNetLemmatizer()\n",
        "# to use lemmatizer, we must donwload wordnet from nltk.download('wordnet)\n",
        "nltk.download('wordnet')"
      ],
      "metadata": {
        "colab": {
          "base_uri": "https://localhost:8080/"
        },
        "id": "A9Ki_0bnhpMN",
        "outputId": "0e79b275-f33d-4e58-c078-858c8bfef4e1"
      },
      "execution_count": 122,
      "outputs": [
        {
          "output_type": "stream",
          "name": "stderr",
          "text": [
            "[nltk_data] Downloading package wordnet to /root/nltk_data...\n"
          ]
        },
        {
          "output_type": "execute_result",
          "data": {
            "text/plain": [
              "True"
            ]
          },
          "metadata": {},
          "execution_count": 122
        }
      ]
    },
    {
      "cell_type": "code",
      "source": [
        "lemmatized_output1 = [lemmatizer.lemmatize(word) for word in token1]"
      ],
      "metadata": {
        "id": "5Cozgi_ahs7-"
      },
      "execution_count": 123,
      "outputs": []
    },
    {
      "cell_type": "code",
      "source": [
        "lemmatized_output2 = [lemmatizer.lemmatize(word) for word in token2]"
      ],
      "metadata": {
        "id": "HC_rKPH6h1my"
      },
      "execution_count": 124,
      "outputs": []
    },
    {
      "cell_type": "code",
      "source": [
        "print(\" \".join(lemmatized_output1))"
      ],
      "metadata": {
        "colab": {
          "base_uri": "https://localhost:8080/"
        },
        "id": "thmVXz2oiQYK",
        "outputId": "822bb892-a810-4827-ef66-71b42e995e94"
      },
      "execution_count": 128,
      "outputs": [
        {
          "output_type": "stream",
          "name": "stdout",
          "text": [
            "I will walk 500 mile and I would walk 500 more . Just to be the man who walk a thousand mile to fall down at your door !\n"
          ]
        }
      ]
    },
    {
      "cell_type": "code",
      "source": [
        "print(\" \".join(lemmatized_output2))"
      ],
      "metadata": {
        "colab": {
          "base_uri": "https://localhost:8080/"
        },
        "id": "GVksrC9UiUTl",
        "outputId": "66a68aca-e4cd-4d28-ae10-4edd3e15bf86"
      },
      "execution_count": 129,
      "outputs": [
        {
          "output_type": "stream",
          "name": "stdout",
          "text": [
            "I played the play playfully a the player were playing in the play with playfullness\n"
          ]
        }
      ]
    },
    {
      "cell_type": "code",
      "source": [],
      "metadata": {
        "id": "zgsXviVhiVoX"
      },
      "execution_count": null,
      "outputs": []
    }
  ]
}
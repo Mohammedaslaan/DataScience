{
  "nbformat": 4,
  "nbformat_minor": 0,
  "metadata": {
    "colab": {
      "provenance": [],
      "authorship_tag": "ABX9TyNCWU/hqbyvQPS4R6X8LS1u",
      "include_colab_link": true
    },
    "kernelspec": {
      "name": "python3",
      "display_name": "Python 3"
    },
    "language_info": {
      "name": "python"
    }
  },
  "cells": [
    {
      "cell_type": "markdown",
      "metadata": {
        "id": "view-in-github",
        "colab_type": "text"
      },
      "source": [
        "<a href=\"https://colab.research.google.com/github/Mohammedaslaan/DataScience-AIML-Practicals/blob/main/DAA-Assgn1-Fibonacci.ipynb\" target=\"_parent\"><img src=\"https://colab.research.google.com/assets/colab-badge.svg\" alt=\"Open In Colab\"/></a>"
      ]
    },
    {
      "cell_type": "code",
      "execution_count": 25,
      "metadata": {
        "id": "63XxSnCbeGfn"
      },
      "outputs": [],
      "source": [
        "#Write a program non-recursive and recursive program to calculate Fibonacci numbers and\n",
        "#analyze their time and space complexity.\n",
        "import time"
      ]
    },
    {
      "cell_type": "code",
      "source": [
        "\n",
        "def fibonacci_iterative(n):\n",
        "    if n <= 1:\n",
        "        return n\n",
        "    a, b = 0, 1\n",
        "    for i in range(2, n + 1):\n",
        "        a, b = b, a + b\n",
        "    return b\n",
        "start = time.time()\n",
        "print(\"Starting time of function :\",start)\n",
        "# Example usage:\n",
        "n = 15\n",
        "result = fibonacci_iterative(n)\n",
        "print(f\"The {n}th Fibonacci number is {result}.\")\n",
        "end = time.time()\n",
        "print(\"Ending time of function :\",end)\n",
        "print(\"Execution Time : \", end - start)"
      ],
      "metadata": {
        "colab": {
          "base_uri": "https://localhost:8080/"
        },
        "id": "XCN2i89MeNFH",
        "outputId": "01b3b80d-83b2-482e-ec4a-3ad63024457a"
      },
      "execution_count": 29,
      "outputs": [
        {
          "output_type": "stream",
          "name": "stdout",
          "text": [
            "Starting time of function : 1699155160.7264516\n",
            "The 15th Fibonacci number is 610.\n",
            "Ending time of function : 1699155160.7286034\n",
            "Execution Time :  0.0021517276763916016\n"
          ]
        }
      ]
    },
    {
      "cell_type": "code",
      "source": [
        "def fibonacci_recursive(n):\n",
        "  if n <= 1:\n",
        "    return n\n",
        "  return fibonacci_recursive(n-1) + fibonacci_recursive(n-2)\n",
        "\n",
        "# Example usage:\n",
        "n = 15\n",
        "result = fibonacci_recursive(n)\n",
        "print(f\"The {n}th Fibonacci number is {result}.\")"
      ],
      "metadata": {
        "colab": {
          "base_uri": "https://localhost:8080/"
        },
        "id": "rvbO_sgHfjyc",
        "outputId": "cfe314b8-da2a-4f08-efa9-e5f68afd6abb"
      },
      "execution_count": 24,
      "outputs": [
        {
          "output_type": "stream",
          "name": "stdout",
          "text": [
            "The 15th Fibonacci number is 610.\n"
          ]
        }
      ]
    },
    {
      "cell_type": "code",
      "source": [],
      "metadata": {
        "id": "qu8EKt6ihy5N"
      },
      "execution_count": null,
      "outputs": []
    }
  ]
}
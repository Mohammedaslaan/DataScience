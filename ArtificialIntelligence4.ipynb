{
  "nbformat": 4,
  "nbformat_minor": 0,
  "metadata": {
    "colab": {
      "provenance": [],
      "authorship_tag": "ABX9TyMapqQMlYYpkpcr0K3De4W1",
      "include_colab_link": true
    },
    "kernelspec": {
      "name": "python3",
      "display_name": "Python 3"
    },
    "language_info": {
      "name": "python"
    }
  },
  "cells": [
    {
      "cell_type": "markdown",
      "metadata": {
        "id": "view-in-github",
        "colab_type": "text"
      },
      "source": [
        "<a href=\"https://colab.research.google.com/github/Mohammedaslaan/DataScience-AIML-Practicals/blob/main/ArtificialIntelligence4.ipynb\" target=\"_parent\"><img src=\"https://colab.research.google.com/assets/colab-badge.svg\" alt=\"Open In Colab\"/></a>"
      ]
    },
    {
      "cell_type": "code",
      "source": [
        "def is_safe(board, row, col, N):\n",
        "    # Check if a queen can be placed at the given position\n",
        "\n",
        "    # Check the row\n",
        "    for i in range(col):\n",
        "        if board[row][i] == 1:\n",
        "            return False\n",
        "\n",
        "    # Check the upper diagonal\n",
        "    i = row\n",
        "    j = col\n",
        "    while i >= 0 and j >= 0:\n",
        "        if board[i][j] == 1:\n",
        "            return False\n",
        "        i -= 1\n",
        "        j -= 1\n",
        "\n",
        "    # Check the lower diagonal\n",
        "    i = row\n",
        "    j = col\n",
        "    while i < N and j >= 0:\n",
        "        if board[i][j] == 1:\n",
        "            return False\n",
        "        i += 1\n",
        "        j -= 1\n",
        "\n",
        "    return True\n",
        "\n",
        "\n",
        "def solve_nqueens_util(board, col, N, solutions):\n",
        "    # Base case: If all queens are placed, add the solution\n",
        "    if col == N:\n",
        "        solution = []\n",
        "        for row in range(N):\n",
        "            row_string = \"\"\n",
        "            for col in range(N):\n",
        "                if board[row][col] == 1:\n",
        "                    row_string += \"Q\"\n",
        "                else:\n",
        "                    row_string += \".\"\n",
        "            solution.append(row_string)\n",
        "        solutions.append(solution)\n",
        "        return True\n",
        "\n",
        "    # Recursive case: Try to place the queen in each row of the current column\n",
        "    for row in range(N):\n",
        "        if is_safe(board, row, col, N):\n",
        "            # Place the queen\n",
        "            board[row][col] = 1\n",
        "\n",
        "            # Recur for the remaining columns\n",
        "            solve_nqueens_util(board, col + 1, N, solutions)\n",
        "\n",
        "            # Backtrack and remove the queen\n",
        "            board[row][col] = 0\n",
        "\n",
        "    return False\n",
        "\n",
        "\n",
        "def solve_nqueens(N):\n",
        "    board = [[0 for _ in range(N)] for _ in range(N)]\n",
        "    solutions = []\n",
        "    solve_nqueens_util(board, 0, N, solutions)\n",
        "    return solutions\n",
        "\n",
        "\n",
        "# Example usage\n",
        "n = 4  # Size of the chessboard\n",
        "solutions = solve_nqueens(n)\n",
        "\n",
        "# Print the solutions\n",
        "for solution in solutions:\n",
        "    print(\"\\n\".join(solution))\n",
        "    print()\n"
      ],
      "metadata": {
        "colab": {
          "base_uri": "https://localhost:8080/"
        },
        "id": "IXPt45O_4A7e",
        "outputId": "2bab1464-b379-472b-a507-96e239ebfdfe"
      },
      "execution_count": 35,
      "outputs": [
        {
          "output_type": "stream",
          "name": "stdout",
          "text": [
            "..Q.\n",
            "Q...\n",
            "...Q\n",
            ".Q..\n",
            "\n",
            ".Q..\n",
            "...Q\n",
            "Q...\n",
            "..Q.\n",
            "\n"
          ]
        }
      ]
    },
    {
      "cell_type": "code",
      "source": [],
      "metadata": {
        "id": "RyPoSZWr5gWf"
      },
      "execution_count": null,
      "outputs": []
    }
  ]
}
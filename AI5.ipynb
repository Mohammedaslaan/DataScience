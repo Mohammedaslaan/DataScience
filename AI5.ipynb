{
  "nbformat": 4,
  "nbformat_minor": 0,
  "metadata": {
    "colab": {
      "provenance": [],
      "authorship_tag": "ABX9TyO93erXZOVzhRkvyLx4TEZ9",
      "include_colab_link": true
    },
    "kernelspec": {
      "name": "python3",
      "display_name": "Python 3"
    },
    "language_info": {
      "name": "python"
    }
  },
  "cells": [
    {
      "cell_type": "markdown",
      "metadata": {
        "id": "view-in-github",
        "colab_type": "text"
      },
      "source": [
        "<a href=\"https://colab.research.google.com/github/Mohammedaslaan/DataScience-AIML-Practicals/blob/main/AI5.ipynb\" target=\"_parent\"><img src=\"https://colab.research.google.com/assets/colab-badge.svg\" alt=\"Open In Colab\"/></a>"
      ]
    },
    {
      "cell_type": "code",
      "execution_count": null,
      "metadata": {
        "id": "VkWHo19X5ueR"
      },
      "outputs": [],
      "source": [
        "import nltk\n",
        "from nltk.chat.util import Chat, reflections\n",
        "\n",
        "patterns = [\n",
        "    (r\"hi|hello|hey\", [\"Hello! How can I assist you with your car rental today?\"]),\n",
        "    (r\"what is your name?\", [\"I am the car rental chatbot. How may I be of service?\"]),\n",
        "    (r\"(.*)(hour|close|open)\", [\"Our office hours are from 9 AM to 6 PM. How can I help you?\"]),\n",
        "    (r\"(.*)(rent|book)(.*)car\", [\"Sure! We offer a wide range of cars for rental. Could you please provide me with your preferred car specifications?\"]),\n",
        "    (r\"(.*)(available|cars)(.*)\", [\"Yes, we have a variety of cars available. Could you please specify your preferred type and date of rental?\"]),\n",
        "    (r\"(.*)(price|cost)(.*)rental\", [\"The rental prices vary depending on the type of car and duration. Could you please provide me with your requirements so I can give you an accurate quote?\"]),\n",
        "    (r\"(.*)(age|old)(.*)rent\", [\"To rent a car, you need to be at least 21 years old. Some car types may have a minimum age requirement of 25. Do you meet the age requirements?\"]),\n",
        "    (r\"(.*)(driver's license|license)(.*)rent\", [\"Yes, a valid driver's license is required to rent a car. Do you have a valid driver's license?\"]),\n",
        "    (r\"(.*)(insurance)(.*)rent\", [\"We provide basic insurance coverage for our rental cars. Additional coverage options are also available. Would you like more information about the insurance options?\"]),\n",
        "    (r\"(.*)(payment|pay)(.*)rent\", [\"We accept various payment methods, including credit cards and cash. What payment method would you prefer?\"]),\n",
        "    (r\"(.*)(cancel|cancellation)(.*)rent\", [\"Yes, you can cancel your car rental. However, cancellation policies and fees may apply. Please provide your reservation details, and I can assist you further with the cancellation process.\"]),\n",
        "    (r\"(.*)(modify|change)(.*)rent\", [\"Modifications to your rental reservation can be made depending on availability. Please provide your reservation details, and I will check if any changes can be made.\"]),\n",
        "    (r\"(.*)(long|short)(.*)rent\", [\"We offer both short-term and long-term car rentals. Could you please let me know your desired rental duration?\"]),\n",
        "    (r\"(.*)(pickup|drop-off)(.*)location\", [\"We have multiple pickup and drop-off locations. Please provide your desired location, and I will check for availability.\"]),\n",
        "    (r\"(.*)(discount|offer)(.*)\", [\"We often have promotional discounts and special offers. Could you please provide more details about your requirements, so I can check if any discounts apply?\"]),\n",
        "    (r\"(.*)(additional|extra)(.*)charges\", [\"Additional charges may apply for optional services like GPS rental, child seats, or additional drivers. Could you please specify which additional services you are interested in?\"]),\n",
        "    (r\"(.*)(requirements|documents)(.*)rent\", [\"To rent a car, you will need a valid driver's license, a form of identification, and a credit card for the reservation deposit. Do you have these documents ready?\"]),\n",
        "    (r\"(.*)(extend|prolong)(.*)rental\", [\"Extending your rental period is possible depending on availability. Please provide your reservation details, and I will assist you with the extension process.\"]),\n",
        "    (r\"(.*)(return|drop-off)(.*)car\", [\"Our car return process is simple. Just let us know your preferred drop-off location and date, and we will guide you through the return procedure.\"]),\n",
        "    (r\"(.*)(customer|support)(.*)\", [\"Our customer support team is available to assist you. How can I help you?\"])\n",
        "]\n",
        "\n",
        "\n",
        "chabot = Chat(patterns,reflections)\n",
        "chabot.converse()"
      ]
    }
  ]
}